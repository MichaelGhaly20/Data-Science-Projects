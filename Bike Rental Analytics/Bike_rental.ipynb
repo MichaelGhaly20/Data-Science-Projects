{
  "nbformat": 4,
  "nbformat_minor": 0,
  "metadata": {
    "colab": {
      "name": "Bike rental.ipynb",
      "provenance": [],
      "collapsed_sections": []
    },
    "kernelspec": {
      "name": "python3",
      "display_name": "Python 3"
    },
    "language_info": {
      "name": "python"
    }
  },
  "cells": [
    {
      "cell_type": "code",
      "metadata": {
        "id": "NaQrqoAdNRws"
      },
      "source": [
        "import numpy as np\n",
        "import pandas as pd\n",
        "import seaborn as sns\n",
        "import matplotlib.pyplot as plt\n",
        "sns.set(rc={'figure.figsize': [7,7]}, font_scale=1.2)"
      ],
      "execution_count": 65,
      "outputs": []
    },
    {
      "cell_type": "markdown",
      "metadata": {
        "id": "kYF4UrzpodVQ"
      },
      "source": [
        "- season -  1 = spring, 2 = summer, 3 = fall, 4 = winter \n",
        "- weather - 1: Clear, Few clouds, Partly cloudy, Partly cloudy\n"
      ]
    },
    {
      "cell_type": "code",
      "metadata": {
        "colab": {
          "base_uri": "https://localhost:8080/",
          "height": 289
        },
        "id": "uAlHmSJSNlAl",
        "outputId": "a093f6c7-9264-4995-87b1-8e6b713a77a0"
      },
      "source": [
        "dataset = pd.read_csv('train.csv')\n",
        "dataset.head()"
      ],
      "execution_count": 66,
      "outputs": [
        {
          "output_type": "execute_result",
          "data": {
            "text/html": [
              "<div>\n",
              "<style scoped>\n",
              "    .dataframe tbody tr th:only-of-type {\n",
              "        vertical-align: middle;\n",
              "    }\n",
              "\n",
              "    .dataframe tbody tr th {\n",
              "        vertical-align: top;\n",
              "    }\n",
              "\n",
              "    .dataframe thead th {\n",
              "        text-align: right;\n",
              "    }\n",
              "</style>\n",
              "<table border=\"1\" class=\"dataframe\">\n",
              "  <thead>\n",
              "    <tr style=\"text-align: right;\">\n",
              "      <th></th>\n",
              "      <th>datetime</th>\n",
              "      <th>season</th>\n",
              "      <th>holiday</th>\n",
              "      <th>workingday</th>\n",
              "      <th>weather</th>\n",
              "      <th>temp</th>\n",
              "      <th>atemp</th>\n",
              "      <th>humidity</th>\n",
              "      <th>windspeed</th>\n",
              "      <th>casual</th>\n",
              "      <th>registered</th>\n",
              "      <th>count</th>\n",
              "    </tr>\n",
              "  </thead>\n",
              "  <tbody>\n",
              "    <tr>\n",
              "      <th>0</th>\n",
              "      <td>2011-01-01 00:00:00</td>\n",
              "      <td>1</td>\n",
              "      <td>0</td>\n",
              "      <td>0</td>\n",
              "      <td>1</td>\n",
              "      <td>9.84</td>\n",
              "      <td>14.395</td>\n",
              "      <td>81</td>\n",
              "      <td>0.0</td>\n",
              "      <td>3</td>\n",
              "      <td>13</td>\n",
              "      <td>16</td>\n",
              "    </tr>\n",
              "    <tr>\n",
              "      <th>1</th>\n",
              "      <td>2011-01-01 01:00:00</td>\n",
              "      <td>1</td>\n",
              "      <td>0</td>\n",
              "      <td>0</td>\n",
              "      <td>1</td>\n",
              "      <td>9.02</td>\n",
              "      <td>13.635</td>\n",
              "      <td>80</td>\n",
              "      <td>0.0</td>\n",
              "      <td>8</td>\n",
              "      <td>32</td>\n",
              "      <td>40</td>\n",
              "    </tr>\n",
              "    <tr>\n",
              "      <th>2</th>\n",
              "      <td>2011-01-01 02:00:00</td>\n",
              "      <td>1</td>\n",
              "      <td>0</td>\n",
              "      <td>0</td>\n",
              "      <td>1</td>\n",
              "      <td>9.02</td>\n",
              "      <td>13.635</td>\n",
              "      <td>80</td>\n",
              "      <td>0.0</td>\n",
              "      <td>5</td>\n",
              "      <td>27</td>\n",
              "      <td>32</td>\n",
              "    </tr>\n",
              "    <tr>\n",
              "      <th>3</th>\n",
              "      <td>2011-01-01 03:00:00</td>\n",
              "      <td>1</td>\n",
              "      <td>0</td>\n",
              "      <td>0</td>\n",
              "      <td>1</td>\n",
              "      <td>9.84</td>\n",
              "      <td>14.395</td>\n",
              "      <td>75</td>\n",
              "      <td>0.0</td>\n",
              "      <td>3</td>\n",
              "      <td>10</td>\n",
              "      <td>13</td>\n",
              "    </tr>\n",
              "    <tr>\n",
              "      <th>4</th>\n",
              "      <td>2011-01-01 04:00:00</td>\n",
              "      <td>1</td>\n",
              "      <td>0</td>\n",
              "      <td>0</td>\n",
              "      <td>1</td>\n",
              "      <td>9.84</td>\n",
              "      <td>14.395</td>\n",
              "      <td>75</td>\n",
              "      <td>0.0</td>\n",
              "      <td>0</td>\n",
              "      <td>1</td>\n",
              "      <td>1</td>\n",
              "    </tr>\n",
              "  </tbody>\n",
              "</table>\n",
              "</div>"
            ],
            "text/plain": [
              "              datetime  season  holiday  ...  casual  registered  count\n",
              "0  2011-01-01 00:00:00       1        0  ...       3          13     16\n",
              "1  2011-01-01 01:00:00       1        0  ...       8          32     40\n",
              "2  2011-01-01 02:00:00       1        0  ...       5          27     32\n",
              "3  2011-01-01 03:00:00       1        0  ...       3          10     13\n",
              "4  2011-01-01 04:00:00       1        0  ...       0           1      1\n",
              "\n",
              "[5 rows x 12 columns]"
            ]
          },
          "metadata": {
            "tags": []
          },
          "execution_count": 66
        }
      ]
    },
    {
      "cell_type": "code",
      "metadata": {
        "colab": {
          "base_uri": "https://localhost:8080/"
        },
        "id": "44F-MQQAOE3j",
        "outputId": "8f75c4a3-9fc5-477a-9e00-9bea41b1aa28"
      },
      "source": [
        "dataset.shape"
      ],
      "execution_count": 67,
      "outputs": [
        {
          "output_type": "execute_result",
          "data": {
            "text/plain": [
              "(10886, 12)"
            ]
          },
          "metadata": {
            "tags": []
          },
          "execution_count": 67
        }
      ]
    },
    {
      "cell_type": "code",
      "metadata": {
        "colab": {
          "base_uri": "https://localhost:8080/"
        },
        "id": "feoPY4yGN3Qy",
        "outputId": "31b7daf7-dac4-45f7-8d67-41ff2f71107a"
      },
      "source": [
        "dataset['weather'].value_counts()"
      ],
      "execution_count": 68,
      "outputs": [
        {
          "output_type": "execute_result",
          "data": {
            "text/plain": [
              "1    7192\n",
              "2    2834\n",
              "3     859\n",
              "4       1\n",
              "Name: weather, dtype: int64"
            ]
          },
          "metadata": {
            "tags": []
          },
          "execution_count": 68
        }
      ]
    },
    {
      "cell_type": "markdown",
      "metadata": {
        "id": "6gU1WzxmRF7z"
      },
      "source": [
        "# Data Analysis & Visualization\n",
        "**Questions**\n",
        "1. Make Profit feature\n",
        "    - Each registerd USER rent bike for 5 USD/hour.\n",
        "    - Each casual USER rents bike for 20 USD/hour.\n",
        "    - Taxes 14%.\n",
        "    - Maintenance 1500/year.\n",
        "2. Distribution rental_bikes_count & profit.\n",
        "3. Profit for each day per week.\n",
        "4. Which season has more registration.\n",
        "5. Which weather condition has more registration.\n",
        "6. Correlation between profit & bikes_count with all features \n",
        "7. Register or Casual is more\n",
        "8. Rental during holidays and workdays"
      ]
    },
    {
      "cell_type": "code",
      "metadata": {
        "id": "L1Zq8pI1OCsj"
      },
      "source": [
        "# make profit feature\n",
        "def calculate_profit(x):\n",
        "  casual_customer = x['casual']\n",
        "  register_customer = x['registered']\n",
        "  registered_price = 5\n",
        "  casual_price = 20\n",
        "  taxes = 0.14\n",
        "  maintenance_per_hour = 1500 / (365*24)\n",
        "  profit_cash = casual_customer * casual_price + register_customer * registered_price\n",
        "  profit_with_taxes = profit_cash - (profit_cash * taxes)\n",
        "  total_profit = profit_with_taxes - maintenance_per_hour\n",
        "  return total_profit\n",
        "\n",
        "dataset['profit'] = dataset[['casual','registered']].apply(calculate_profit, axis=1)"
      ],
      "execution_count": 69,
      "outputs": []
    },
    {
      "cell_type": "code",
      "metadata": {
        "colab": {
          "base_uri": "https://localhost:8080/",
          "height": 394
        },
        "id": "hcdxr3riaJrL",
        "outputId": "7b15c672-9706-4eba-de64-9e41d3e05c6c"
      },
      "source": [
        "dataset.head()"
      ],
      "execution_count": 70,
      "outputs": [
        {
          "output_type": "execute_result",
          "data": {
            "text/html": [
              "<div>\n",
              "<style scoped>\n",
              "    .dataframe tbody tr th:only-of-type {\n",
              "        vertical-align: middle;\n",
              "    }\n",
              "\n",
              "    .dataframe tbody tr th {\n",
              "        vertical-align: top;\n",
              "    }\n",
              "\n",
              "    .dataframe thead th {\n",
              "        text-align: right;\n",
              "    }\n",
              "</style>\n",
              "<table border=\"1\" class=\"dataframe\">\n",
              "  <thead>\n",
              "    <tr style=\"text-align: right;\">\n",
              "      <th></th>\n",
              "      <th>datetime</th>\n",
              "      <th>season</th>\n",
              "      <th>holiday</th>\n",
              "      <th>workingday</th>\n",
              "      <th>weather</th>\n",
              "      <th>temp</th>\n",
              "      <th>atemp</th>\n",
              "      <th>humidity</th>\n",
              "      <th>windspeed</th>\n",
              "      <th>casual</th>\n",
              "      <th>registered</th>\n",
              "      <th>count</th>\n",
              "      <th>profit</th>\n",
              "    </tr>\n",
              "  </thead>\n",
              "  <tbody>\n",
              "    <tr>\n",
              "      <th>0</th>\n",
              "      <td>2011-01-01 00:00:00</td>\n",
              "      <td>1</td>\n",
              "      <td>0</td>\n",
              "      <td>0</td>\n",
              "      <td>1</td>\n",
              "      <td>9.84</td>\n",
              "      <td>14.395</td>\n",
              "      <td>81</td>\n",
              "      <td>0.0</td>\n",
              "      <td>3</td>\n",
              "      <td>13</td>\n",
              "      <td>16</td>\n",
              "      <td>107.328767</td>\n",
              "    </tr>\n",
              "    <tr>\n",
              "      <th>1</th>\n",
              "      <td>2011-01-01 01:00:00</td>\n",
              "      <td>1</td>\n",
              "      <td>0</td>\n",
              "      <td>0</td>\n",
              "      <td>1</td>\n",
              "      <td>9.02</td>\n",
              "      <td>13.635</td>\n",
              "      <td>80</td>\n",
              "      <td>0.0</td>\n",
              "      <td>8</td>\n",
              "      <td>32</td>\n",
              "      <td>40</td>\n",
              "      <td>275.028767</td>\n",
              "    </tr>\n",
              "    <tr>\n",
              "      <th>2</th>\n",
              "      <td>2011-01-01 02:00:00</td>\n",
              "      <td>1</td>\n",
              "      <td>0</td>\n",
              "      <td>0</td>\n",
              "      <td>1</td>\n",
              "      <td>9.02</td>\n",
              "      <td>13.635</td>\n",
              "      <td>80</td>\n",
              "      <td>0.0</td>\n",
              "      <td>5</td>\n",
              "      <td>27</td>\n",
              "      <td>32</td>\n",
              "      <td>201.928767</td>\n",
              "    </tr>\n",
              "    <tr>\n",
              "      <th>3</th>\n",
              "      <td>2011-01-01 03:00:00</td>\n",
              "      <td>1</td>\n",
              "      <td>0</td>\n",
              "      <td>0</td>\n",
              "      <td>1</td>\n",
              "      <td>9.84</td>\n",
              "      <td>14.395</td>\n",
              "      <td>75</td>\n",
              "      <td>0.0</td>\n",
              "      <td>3</td>\n",
              "      <td>10</td>\n",
              "      <td>13</td>\n",
              "      <td>94.428767</td>\n",
              "    </tr>\n",
              "    <tr>\n",
              "      <th>4</th>\n",
              "      <td>2011-01-01 04:00:00</td>\n",
              "      <td>1</td>\n",
              "      <td>0</td>\n",
              "      <td>0</td>\n",
              "      <td>1</td>\n",
              "      <td>9.84</td>\n",
              "      <td>14.395</td>\n",
              "      <td>75</td>\n",
              "      <td>0.0</td>\n",
              "      <td>0</td>\n",
              "      <td>1</td>\n",
              "      <td>1</td>\n",
              "      <td>4.128767</td>\n",
              "    </tr>\n",
              "  </tbody>\n",
              "</table>\n",
              "</div>"
            ],
            "text/plain": [
              "              datetime  season  holiday  ...  registered  count      profit\n",
              "0  2011-01-01 00:00:00       1        0  ...          13     16  107.328767\n",
              "1  2011-01-01 01:00:00       1        0  ...          32     40  275.028767\n",
              "2  2011-01-01 02:00:00       1        0  ...          27     32  201.928767\n",
              "3  2011-01-01 03:00:00       1        0  ...          10     13   94.428767\n",
              "4  2011-01-01 04:00:00       1        0  ...           1      1    4.128767\n",
              "\n",
              "[5 rows x 13 columns]"
            ]
          },
          "metadata": {
            "tags": []
          },
          "execution_count": 70
        }
      ]
    },
    {
      "cell_type": "code",
      "metadata": {
        "colab": {
          "base_uri": "https://localhost:8080/",
          "height": 523
        },
        "id": "wx5RbHYKaJoM",
        "outputId": "dcf59712-a1ea-46d7-c451-cb8160898e9f"
      },
      "source": [
        "# Distribution rental_bikes_count & profit.\n",
        "#sns.distplot(dataset['count'])\n",
        "sns.distplot(dataset['profit'])\n",
        "plt.title('profit Distribution')\n",
        "plt.show()"
      ],
      "execution_count": 71,
      "outputs": [
        {
          "output_type": "stream",
          "text": [
            "/usr/local/lib/python3.7/dist-packages/seaborn/distributions.py:2557: FutureWarning: `distplot` is a deprecated function and will be removed in a future version. Please adapt your code to use either `displot` (a figure-level function with similar flexibility) or `histplot` (an axes-level function for histograms).\n",
            "  warnings.warn(msg, FutureWarning)\n"
          ],
          "name": "stderr"
        },
        {
          "output_type": "display_data",
          "data": {
            "image/png": "[encoded data removed]",
            "text/plain": [
              "<Figure size 504x504 with 1 Axes>"
            ]
          },
          "metadata": {
            "tags": []
          }
        }
      ]
    },
    {
      "cell_type": "code",
      "metadata": {
        "colab": {
          "base_uri": "https://localhost:8080/",
          "height": 449
        },
        "id": "HBVq5a8taJlW",
        "outputId": "c53f4b6b-730e-420e-f9c9-ddbb6e010c34"
      },
      "source": [
        "sns.jointplot(x='profit', y='count', data = dataset)"
      ],
      "execution_count": 72,
      "outputs": [
        {
          "output_type": "execute_result",
          "data": {
            "text/plain": [
              "<seaborn.axisgrid.JointGrid at 0x7fcb5ff830d0>"
            ]
          },
          "metadata": {
            "tags": []
          },
          "execution_count": 72
        },
        {
          "output_type": "display_data",
          "data": {
            "image/png": "[encoded data removed]",
            "text/plain": [
              "<Figure size 432x432 with 3 Axes>"
            ]
          },
          "metadata": {
            "tags": []
          }
        }
      ]
    },
    {
      "cell_type": "code",
      "metadata": {
        "colab": {
          "base_uri": "https://localhost:8080/"
        },
        "id": "nryHXwkEaJit",
        "outputId": "dc4dec12-47d4-49bb-a4af-cfa67c2b6cfd"
      },
      "source": [
        "dataset['profit'].describe()"
      ],
      "execution_count": 73,
      "outputs": [
        {
          "output_type": "execute_result",
          "data": {
            "text/plain": [
              "count    10886.000000\n",
              "mean      1288.280751\n",
              "std       1309.683400\n",
              "min          4.128767\n",
              "25%        253.528767\n",
              "50%        889.928767\n",
              "75%       1891.828767\n",
              "max       7881.728767\n",
              "Name: profit, dtype: float64"
            ]
          },
          "metadata": {
            "tags": []
          },
          "execution_count": 73
        }
      ]
    },
    {
      "cell_type": "code",
      "metadata": {
        "colab": {
          "base_uri": "https://localhost:8080/",
          "height": 134
        },
        "id": "PRuX32sYaJgE",
        "outputId": "bb81f79c-d32f-4c59-8bc5-bd45c5e135bc"
      },
      "source": [
        "dataset[dataset['profit'] == dataset['profit'].max()]"
      ],
      "execution_count": 74,
      "outputs": [
        {
          "output_type": "execute_result",
          "data": {
            "text/html": [
              "<div>\n",
              "<style scoped>\n",
              "    .dataframe tbody tr th:only-of-type {\n",
              "        vertical-align: middle;\n",
              "    }\n",
              "\n",
              "    .dataframe tbody tr th {\n",
              "        vertical-align: top;\n",
              "    }\n",
              "\n",
              "    .dataframe thead th {\n",
              "        text-align: right;\n",
              "    }\n",
              "</style>\n",
              "<table border=\"1\" class=\"dataframe\">\n",
              "  <thead>\n",
              "    <tr style=\"text-align: right;\">\n",
              "      <th></th>\n",
              "      <th>datetime</th>\n",
              "      <th>season</th>\n",
              "      <th>holiday</th>\n",
              "      <th>workingday</th>\n",
              "      <th>weather</th>\n",
              "      <th>temp</th>\n",
              "      <th>atemp</th>\n",
              "      <th>humidity</th>\n",
              "      <th>windspeed</th>\n",
              "      <th>casual</th>\n",
              "      <th>registered</th>\n",
              "      <th>count</th>\n",
              "      <th>profit</th>\n",
              "    </tr>\n",
              "  </thead>\n",
              "  <tbody>\n",
              "    <tr>\n",
              "      <th>9415</th>\n",
              "      <td>2012-09-15 16:00:00</td>\n",
              "      <td>3</td>\n",
              "      <td>0</td>\n",
              "      <td>0</td>\n",
              "      <td>2</td>\n",
              "      <td>27.06</td>\n",
              "      <td>31.06</td>\n",
              "      <td>36</td>\n",
              "      <td>15.0013</td>\n",
              "      <td>350</td>\n",
              "      <td>433</td>\n",
              "      <td>783</td>\n",
              "      <td>7881.728767</td>\n",
              "    </tr>\n",
              "  </tbody>\n",
              "</table>\n",
              "</div>"
            ],
            "text/plain": [
              "                 datetime  season  holiday  ...  registered  count       profit\n",
              "9415  2012-09-15 16:00:00       3        0  ...         433    783  7881.728767\n",
              "\n",
              "[1 rows x 13 columns]"
            ]
          },
          "metadata": {
            "tags": []
          },
          "execution_count": 74
        }
      ]
    },
    {
      "cell_type": "code",
      "metadata": {
        "colab": {
          "base_uri": "https://localhost:8080/",
          "height": 134
        },
        "id": "rMxDqVPCaJdc",
        "outputId": "b35b413e-049b-460a-df48-036b6e77a620"
      },
      "source": [
        "dataset[dataset['count'] == dataset['count'].max()]"
      ],
      "execution_count": 75,
      "outputs": [
        {
          "output_type": "execute_result",
          "data": {
            "text/html": [
              "<div>\n",
              "<style scoped>\n",
              "    .dataframe tbody tr th:only-of-type {\n",
              "        vertical-align: middle;\n",
              "    }\n",
              "\n",
              "    .dataframe tbody tr th {\n",
              "        vertical-align: top;\n",
              "    }\n",
              "\n",
              "    .dataframe thead th {\n",
              "        text-align: right;\n",
              "    }\n",
              "</style>\n",
              "<table border=\"1\" class=\"dataframe\">\n",
              "  <thead>\n",
              "    <tr style=\"text-align: right;\">\n",
              "      <th></th>\n",
              "      <th>datetime</th>\n",
              "      <th>season</th>\n",
              "      <th>holiday</th>\n",
              "      <th>workingday</th>\n",
              "      <th>weather</th>\n",
              "      <th>temp</th>\n",
              "      <th>atemp</th>\n",
              "      <th>humidity</th>\n",
              "      <th>windspeed</th>\n",
              "      <th>casual</th>\n",
              "      <th>registered</th>\n",
              "      <th>count</th>\n",
              "      <th>profit</th>\n",
              "    </tr>\n",
              "  </thead>\n",
              "  <tbody>\n",
              "    <tr>\n",
              "      <th>9345</th>\n",
              "      <td>2012-09-12 18:00:00</td>\n",
              "      <td>3</td>\n",
              "      <td>0</td>\n",
              "      <td>1</td>\n",
              "      <td>1</td>\n",
              "      <td>27.06</td>\n",
              "      <td>31.06</td>\n",
              "      <td>44</td>\n",
              "      <td>16.9979</td>\n",
              "      <td>91</td>\n",
              "      <td>886</td>\n",
              "      <td>977</td>\n",
              "      <td>5374.828767</td>\n",
              "    </tr>\n",
              "  </tbody>\n",
              "</table>\n",
              "</div>"
            ],
            "text/plain": [
              "                 datetime  season  holiday  ...  registered  count       profit\n",
              "9345  2012-09-12 18:00:00       3        0  ...         886    977  5374.828767\n",
              "\n",
              "[1 rows x 13 columns]"
            ]
          },
          "metadata": {
            "tags": []
          },
          "execution_count": 75
        }
      ]
    },
    {
      "cell_type": "code",
      "metadata": {
        "id": "C-zDySZkaJar"
      },
      "source": [
        "# profit for ecah day per week\n",
        "dataset['datetime'] = pd.to_datetime(dataset['datetime'], format='%Y-%m-%d %H:%M:%S', errors='coerce') # coerce returns a NAT"
      ],
      "execution_count": 76,
      "outputs": []
    },
    {
      "cell_type": "code",
      "metadata": {
        "colab": {
          "base_uri": "https://localhost:8080/"
        },
        "id": "KgNZSDam96T0",
        "outputId": "5e0baac8-871e-4c44-e76b-a489f46ed6cc"
      },
      "source": [
        "dataset.info()"
      ],
      "execution_count": 77,
      "outputs": [
        {
          "output_type": "stream",
          "text": [
            "<class 'pandas.core.frame.DataFrame'>\n",
            "RangeIndex: 10886 entries, 0 to 10885\n",
            "Data columns (total 13 columns):\n",
            " #   Column      Non-Null Count  Dtype         \n",
            "---  ------      --------------  -----         \n",
            " 0   datetime    10886 non-null  datetime64[ns]\n",
            " 1   season      10886 non-null  int64         \n",
            " 2   holiday     10886 non-null  int64         \n",
            " 3   workingday  10886 non-null  int64         \n",
            " 4   weather     10886 non-null  int64         \n",
            " 5   temp        10886 non-null  float64       \n",
            " 6   atemp       10886 non-null  float64       \n",
            " 7   humidity    10886 non-null  int64         \n",
            " 8   windspeed   10886 non-null  float64       \n",
            " 9   casual      10886 non-null  int64         \n",
            " 10  registered  10886 non-null  int64         \n",
            " 11  count       10886 non-null  int64         \n",
            " 12  profit      10886 non-null  float64       \n",
            "dtypes: datetime64[ns](1), float64(4), int64(8)\n",
            "memory usage: 1.1 MB\n"
          ],
          "name": "stdout"
        }
      ]
    },
    {
      "cell_type": "markdown",
      "metadata": {
        "id": "44QSqaha_O6m"
      },
      "source": [
        "- Day of week: 1-6\n",
        "- Day of month: 1-30\n",
        "- Day of year: 1-365"
      ]
    },
    {
      "cell_type": "code",
      "metadata": {
        "id": "bsazmDlo96RZ"
      },
      "source": [
        "dataset['year'] = dataset['datetime'].dt.year\n",
        "dataset['month'] = dataset['datetime'].dt.month_name()\n",
        "dataset['day_of_week'] = dataset['datetime'].dt.day_name()\n",
        "dataset['hour'] = dataset['datetime'].dt.hour"
      ],
      "execution_count": 78,
      "outputs": []
    },
    {
      "cell_type": "code",
      "metadata": {
        "colab": {
          "base_uri": "https://localhost:8080/",
          "height": 394
        },
        "id": "EH7-JUkJ96Ol",
        "outputId": "ae7a56a2-d3d6-49eb-b4dc-2dcab7e8e9c2"
      },
      "source": [
        "dataset.head()"
      ],
      "execution_count": 79,
      "outputs": [
        {
          "output_type": "execute_result",
          "data": {
            "text/html": [
              "<div>\n",
              "<style scoped>\n",
              "    .dataframe tbody tr th:only-of-type {\n",
              "        vertical-align: middle;\n",
              "    }\n",
              "\n",
              "    .dataframe tbody tr th {\n",
              "        vertical-align: top;\n",
              "    }\n",
              "\n",
              "    .dataframe thead th {\n",
              "        text-align: right;\n",
              "    }\n",
              "</style>\n",
              "<table border=\"1\" class=\"dataframe\">\n",
              "  <thead>\n",
              "    <tr style=\"text-align: right;\">\n",
              "      <th></th>\n",
              "      <th>datetime</th>\n",
              "      <th>season</th>\n",
              "      <th>holiday</th>\n",
              "      <th>workingday</th>\n",
              "      <th>weather</th>\n",
              "      <th>temp</th>\n",
              "      <th>atemp</th>\n",
              "      <th>humidity</th>\n",
              "      <th>windspeed</th>\n",
              "      <th>casual</th>\n",
              "      <th>registered</th>\n",
              "      <th>count</th>\n",
              "      <th>profit</th>\n",
              "      <th>year</th>\n",
              "      <th>month</th>\n",
              "      <th>day_of_week</th>\n",
              "      <th>hour</th>\n",
              "    </tr>\n",
              "  </thead>\n",
              "  <tbody>\n",
              "    <tr>\n",
              "      <th>0</th>\n",
              "      <td>2011-01-01 00:00:00</td>\n",
              "      <td>1</td>\n",
              "      <td>0</td>\n",
              "      <td>0</td>\n",
              "      <td>1</td>\n",
              "      <td>9.84</td>\n",
              "      <td>14.395</td>\n",
              "      <td>81</td>\n",
              "      <td>0.0</td>\n",
              "      <td>3</td>\n",
              "      <td>13</td>\n",
              "      <td>16</td>\n",
              "      <td>107.328767</td>\n",
              "      <td>2011</td>\n",
              "      <td>January</td>\n",
              "      <td>Saturday</td>\n",
              "      <td>0</td>\n",
              "    </tr>\n",
              "    <tr>\n",
              "      <th>1</th>\n",
              "      <td>2011-01-01 01:00:00</td>\n",
              "      <td>1</td>\n",
              "      <td>0</td>\n",
              "      <td>0</td>\n",
              "      <td>1</td>\n",
              "      <td>9.02</td>\n",
              "      <td>13.635</td>\n",
              "      <td>80</td>\n",
              "      <td>0.0</td>\n",
              "      <td>8</td>\n",
              "      <td>32</td>\n",
              "      <td>40</td>\n",
              "      <td>275.028767</td>\n",
              "      <td>2011</td>\n",
              "      <td>January</td>\n",
              "      <td>Saturday</td>\n",
              "      <td>1</td>\n",
              "    </tr>\n",
              "    <tr>\n",
              "      <th>2</th>\n",
              "      <td>2011-01-01 02:00:00</td>\n",
              "      <td>1</td>\n",
              "      <td>0</td>\n",
              "      <td>0</td>\n",
              "      <td>1</td>\n",
              "      <td>9.02</td>\n",
              "      <td>13.635</td>\n",
              "      <td>80</td>\n",
              "      <td>0.0</td>\n",
              "      <td>5</td>\n",
              "      <td>27</td>\n",
              "      <td>32</td>\n",
              "      <td>201.928767</td>\n",
              "      <td>2011</td>\n",
              "      <td>January</td>\n",
              "      <td>Saturday</td>\n",
              "      <td>2</td>\n",
              "    </tr>\n",
              "    <tr>\n",
              "      <th>3</th>\n",
              "      <td>2011-01-01 03:00:00</td>\n",
              "      <td>1</td>\n",
              "      <td>0</td>\n",
              "      <td>0</td>\n",
              "      <td>1</td>\n",
              "      <td>9.84</td>\n",
              "      <td>14.395</td>\n",
              "      <td>75</td>\n",
              "      <td>0.0</td>\n",
              "      <td>3</td>\n",
              "      <td>10</td>\n",
              "      <td>13</td>\n",
              "      <td>94.428767</td>\n",
              "      <td>2011</td>\n",
              "      <td>January</td>\n",
              "      <td>Saturday</td>\n",
              "      <td>3</td>\n",
              "    </tr>\n",
              "    <tr>\n",
              "      <th>4</th>\n",
              "      <td>2011-01-01 04:00:00</td>\n",
              "      <td>1</td>\n",
              "      <td>0</td>\n",
              "      <td>0</td>\n",
              "      <td>1</td>\n",
              "      <td>9.84</td>\n",
              "      <td>14.395</td>\n",
              "      <td>75</td>\n",
              "      <td>0.0</td>\n",
              "      <td>0</td>\n",
              "      <td>1</td>\n",
              "      <td>1</td>\n",
              "      <td>4.128767</td>\n",
              "      <td>2011</td>\n",
              "      <td>January</td>\n",
              "      <td>Saturday</td>\n",
              "      <td>4</td>\n",
              "    </tr>\n",
              "  </tbody>\n",
              "</table>\n",
              "</div>"
            ],
            "text/plain": [
              "             datetime  season  holiday  ...    month  day_of_week  hour\n",
              "0 2011-01-01 00:00:00       1        0  ...  January     Saturday     0\n",
              "1 2011-01-01 01:00:00       1        0  ...  January     Saturday     1\n",
              "2 2011-01-01 02:00:00       1        0  ...  January     Saturday     2\n",
              "3 2011-01-01 03:00:00       1        0  ...  January     Saturday     3\n",
              "4 2011-01-01 04:00:00       1        0  ...  January     Saturday     4\n",
              "\n",
              "[5 rows x 17 columns]"
            ]
          },
          "metadata": {
            "tags": []
          },
          "execution_count": 79
        }
      ]
    },
    {
      "cell_type": "code",
      "metadata": {
        "colab": {
          "base_uri": "https://localhost:8080/",
          "height": 297
        },
        "id": "XstiUO_m96L_",
        "outputId": "620e7b10-8a63-4462-da6b-6200778b6ef6"
      },
      "source": [
        "dataset.groupby('day_of_week').mean()[['count','profit']]"
      ],
      "execution_count": 80,
      "outputs": [
        {
          "output_type": "execute_result",
          "data": {
            "text/html": [
              "<div>\n",
              "<style scoped>\n",
              "    .dataframe tbody tr th:only-of-type {\n",
              "        vertical-align: middle;\n",
              "    }\n",
              "\n",
              "    .dataframe tbody tr th {\n",
              "        vertical-align: top;\n",
              "    }\n",
              "\n",
              "    .dataframe thead th {\n",
              "        text-align: right;\n",
              "    }\n",
              "</style>\n",
              "<table border=\"1\" class=\"dataframe\">\n",
              "  <thead>\n",
              "    <tr style=\"text-align: right;\">\n",
              "      <th></th>\n",
              "      <th>count</th>\n",
              "      <th>profit</th>\n",
              "    </tr>\n",
              "    <tr>\n",
              "      <th>day_of_week</th>\n",
              "      <th></th>\n",
              "      <th></th>\n",
              "    </tr>\n",
              "  </thead>\n",
              "  <tbody>\n",
              "    <tr>\n",
              "      <th>Friday</th>\n",
              "      <td>197.844343</td>\n",
              "      <td>1250.484751</td>\n",
              "    </tr>\n",
              "    <tr>\n",
              "      <th>Monday</th>\n",
              "      <td>190.390716</td>\n",
              "      <td>1203.496079</td>\n",
              "    </tr>\n",
              "    <tr>\n",
              "      <th>Saturday</th>\n",
              "      <td>196.665404</td>\n",
              "      <td>1666.252504</td>\n",
              "    </tr>\n",
              "    <tr>\n",
              "      <th>Sunday</th>\n",
              "      <td>180.839772</td>\n",
              "      <td>1513.401535</td>\n",
              "    </tr>\n",
              "    <tr>\n",
              "      <th>Thursday</th>\n",
              "      <td>197.296201</td>\n",
              "      <td>1157.893803</td>\n",
              "    </tr>\n",
              "    <tr>\n",
              "      <th>Tuesday</th>\n",
              "      <td>189.723847</td>\n",
              "      <td>1112.073082</td>\n",
              "    </tr>\n",
              "    <tr>\n",
              "      <th>Wednesday</th>\n",
              "      <td>188.411348</td>\n",
              "      <td>1100.526188</td>\n",
              "    </tr>\n",
              "  </tbody>\n",
              "</table>\n",
              "</div>"
            ],
            "text/plain": [
              "                  count       profit\n",
              "day_of_week                         \n",
              "Friday       197.844343  1250.484751\n",
              "Monday       190.390716  1203.496079\n",
              "Saturday     196.665404  1666.252504\n",
              "Sunday       180.839772  1513.401535\n",
              "Thursday     197.296201  1157.893803\n",
              "Tuesday      189.723847  1112.073082\n",
              "Wednesday    188.411348  1100.526188"
            ]
          },
          "metadata": {
            "tags": []
          },
          "execution_count": 80
        }
      ]
    },
    {
      "cell_type": "code",
      "metadata": {
        "colab": {
          "base_uri": "https://localhost:8080/",
          "height": 297
        },
        "id": "sFR87JYZkM-k",
        "outputId": "b7b096ac-53e9-444f-c1f4-747599374672"
      },
      "source": [
        "dataset.groupby('day_of_week').describe()[['profit']].transpose()"
      ],
      "execution_count": 81,
      "outputs": [
        {
          "output_type": "execute_result",
          "data": {
            "text/html": [
              "<div>\n",
              "<style scoped>\n",
              "    .dataframe tbody tr th:only-of-type {\n",
              "        vertical-align: middle;\n",
              "    }\n",
              "\n",
              "    .dataframe tbody tr th {\n",
              "        vertical-align: top;\n",
              "    }\n",
              "\n",
              "    .dataframe thead th {\n",
              "        text-align: right;\n",
              "    }\n",
              "</style>\n",
              "<table border=\"1\" class=\"dataframe\">\n",
              "  <thead>\n",
              "    <tr style=\"text-align: right;\">\n",
              "      <th></th>\n",
              "      <th>day_of_week</th>\n",
              "      <th>Friday</th>\n",
              "      <th>Monday</th>\n",
              "      <th>Saturday</th>\n",
              "      <th>Sunday</th>\n",
              "      <th>Thursday</th>\n",
              "      <th>Tuesday</th>\n",
              "      <th>Wednesday</th>\n",
              "    </tr>\n",
              "  </thead>\n",
              "  <tbody>\n",
              "    <tr>\n",
              "      <th rowspan=\"8\" valign=\"top\">profit</th>\n",
              "      <th>count</th>\n",
              "      <td>1529.000000</td>\n",
              "      <td>1551.000000</td>\n",
              "      <td>1584.000000</td>\n",
              "      <td>1579.000000</td>\n",
              "      <td>1553.000000</td>\n",
              "      <td>1539.000000</td>\n",
              "      <td>1551.000000</td>\n",
              "    </tr>\n",
              "    <tr>\n",
              "      <th>mean</th>\n",
              "      <td>1250.484751</td>\n",
              "      <td>1203.496079</td>\n",
              "      <td>1666.252504</td>\n",
              "      <td>1513.401535</td>\n",
              "      <td>1157.893803</td>\n",
              "      <td>1112.073082</td>\n",
              "      <td>1100.526188</td>\n",
              "    </tr>\n",
              "    <tr>\n",
              "      <th>std</th>\n",
              "      <td>1110.019552</td>\n",
              "      <td>1129.727600</td>\n",
              "      <td>1772.625088</td>\n",
              "      <td>1571.404307</td>\n",
              "      <td>1086.029849</td>\n",
              "      <td>1065.481400</td>\n",
              "      <td>1111.243780</td>\n",
              "    </tr>\n",
              "    <tr>\n",
              "      <th>min</th>\n",
              "      <td>4.128767</td>\n",
              "      <td>4.128767</td>\n",
              "      <td>4.128767</td>\n",
              "      <td>4.128767</td>\n",
              "      <td>4.128767</td>\n",
              "      <td>4.128767</td>\n",
              "      <td>4.128767</td>\n",
              "    </tr>\n",
              "    <tr>\n",
              "      <th>25%</th>\n",
              "      <td>300.828767</td>\n",
              "      <td>249.228767</td>\n",
              "      <td>283.628767</td>\n",
              "      <td>287.928767</td>\n",
              "      <td>236.328767</td>\n",
              "      <td>210.528767</td>\n",
              "      <td>210.528767</td>\n",
              "    </tr>\n",
              "    <tr>\n",
              "      <th>50%</th>\n",
              "      <td>1036.128767</td>\n",
              "      <td>954.428767</td>\n",
              "      <td>956.578767</td>\n",
              "      <td>812.528767</td>\n",
              "      <td>911.428767</td>\n",
              "      <td>834.028767</td>\n",
              "      <td>791.028767</td>\n",
              "    </tr>\n",
              "    <tr>\n",
              "      <th>75%</th>\n",
              "      <td>1891.828767</td>\n",
              "      <td>1827.328767</td>\n",
              "      <td>2614.228767</td>\n",
              "      <td>2429.328767</td>\n",
              "      <td>1741.328767</td>\n",
              "      <td>1704.778767</td>\n",
              "      <td>1657.478767</td>\n",
              "    </tr>\n",
              "    <tr>\n",
              "      <th>max</th>\n",
              "      <td>5908.028767</td>\n",
              "      <td>5594.128767</td>\n",
              "      <td>7881.728767</td>\n",
              "      <td>7034.628767</td>\n",
              "      <td>5533.928767</td>\n",
              "      <td>6338.028767</td>\n",
              "      <td>5447.928767</td>\n",
              "    </tr>\n",
              "  </tbody>\n",
              "</table>\n",
              "</div>"
            ],
            "text/plain": [
              "day_of_week        Friday       Monday  ...      Tuesday    Wednesday\n",
              "profit count  1529.000000  1551.000000  ...  1539.000000  1551.000000\n",
              "       mean   1250.484751  1203.496079  ...  1112.073082  1100.526188\n",
              "       std    1110.019552  1129.727600  ...  1065.481400  1111.243780\n",
              "       min       4.128767     4.128767  ...     4.128767     4.128767\n",
              "       25%     300.828767   249.228767  ...   210.528767   210.528767\n",
              "       50%    1036.128767   954.428767  ...   834.028767   791.028767\n",
              "       75%    1891.828767  1827.328767  ...  1704.778767  1657.478767\n",
              "       max    5908.028767  5594.128767  ...  6338.028767  5447.928767\n",
              "\n",
              "[8 rows x 7 columns]"
            ]
          },
          "metadata": {
            "tags": []
          },
          "execution_count": 81
        }
      ]
    },
    {
      "cell_type": "code",
      "metadata": {
        "colab": {
          "base_uri": "https://localhost:8080/",
          "height": 204
        },
        "id": "pfyAMM7kljq4",
        "outputId": "7eee1dc4-77ec-4a86-f2bb-4650e1c62147"
      },
      "source": [
        "# which season that has more registration and profit\n",
        "dataset.groupby('season').describe()['profit']"
      ],
      "execution_count": 82,
      "outputs": [
        {
          "output_type": "execute_result",
          "data": {
            "text/html": [
              "<div>\n",
              "<style scoped>\n",
              "    .dataframe tbody tr th:only-of-type {\n",
              "        vertical-align: middle;\n",
              "    }\n",
              "\n",
              "    .dataframe tbody tr th {\n",
              "        vertical-align: top;\n",
              "    }\n",
              "\n",
              "    .dataframe thead th {\n",
              "        text-align: right;\n",
              "    }\n",
              "</style>\n",
              "<table border=\"1\" class=\"dataframe\">\n",
              "  <thead>\n",
              "    <tr style=\"text-align: right;\">\n",
              "      <th></th>\n",
              "      <th>count</th>\n",
              "      <th>mean</th>\n",
              "      <th>std</th>\n",
              "      <th>min</th>\n",
              "      <th>25%</th>\n",
              "      <th>50%</th>\n",
              "      <th>75%</th>\n",
              "      <th>max</th>\n",
              "    </tr>\n",
              "    <tr>\n",
              "      <th>season</th>\n",
              "      <th></th>\n",
              "      <th></th>\n",
              "      <th></th>\n",
              "      <th></th>\n",
              "      <th></th>\n",
              "      <th></th>\n",
              "      <th></th>\n",
              "      <th></th>\n",
              "    </tr>\n",
              "  </thead>\n",
              "  <tbody>\n",
              "    <tr>\n",
              "      <th>1</th>\n",
              "      <td>2686.0</td>\n",
              "      <td>699.920316</td>\n",
              "      <td>853.820568</td>\n",
              "      <td>4.128767</td>\n",
              "      <td>128.828767</td>\n",
              "      <td>438.428767</td>\n",
              "      <td>920.028767</td>\n",
              "      <td>7679.628767</td>\n",
              "    </tr>\n",
              "    <tr>\n",
              "      <th>2</th>\n",
              "      <td>2733.0</td>\n",
              "      <td>1537.472894</td>\n",
              "      <td>1453.088262</td>\n",
              "      <td>4.128767</td>\n",
              "      <td>322.328767</td>\n",
              "      <td>1216.728767</td>\n",
              "      <td>2244.428767</td>\n",
              "      <td>7795.728767</td>\n",
              "    </tr>\n",
              "    <tr>\n",
              "      <th>3</th>\n",
              "      <td>2733.0</td>\n",
              "      <td>1681.463893</td>\n",
              "      <td>1427.630038</td>\n",
              "      <td>4.128767</td>\n",
              "      <td>442.728767</td>\n",
              "      <td>1414.528767</td>\n",
              "      <td>2463.728767</td>\n",
              "      <td>7881.728767</td>\n",
              "    </tr>\n",
              "    <tr>\n",
              "      <th>4</th>\n",
              "      <td>2734.0</td>\n",
              "      <td>1224.171196</td>\n",
              "      <td>1185.870080</td>\n",
              "      <td>4.128767</td>\n",
              "      <td>292.228767</td>\n",
              "      <td>937.228767</td>\n",
              "      <td>1754.228767</td>\n",
              "      <td>7864.528767</td>\n",
              "    </tr>\n",
              "  </tbody>\n",
              "</table>\n",
              "</div>"
            ],
            "text/plain": [
              "         count         mean          std  ...          50%          75%          max\n",
              "season                                    ...                                       \n",
              "1       2686.0   699.920316   853.820568  ...   438.428767   920.028767  7679.628767\n",
              "2       2733.0  1537.472894  1453.088262  ...  1216.728767  2244.428767  7795.728767\n",
              "3       2733.0  1681.463893  1427.630038  ...  1414.528767  2463.728767  7881.728767\n",
              "4       2734.0  1224.171196  1185.870080  ...   937.228767  1754.228767  7864.528767\n",
              "\n",
              "[4 rows x 8 columns]"
            ]
          },
          "metadata": {
            "tags": []
          },
          "execution_count": 82
        }
      ]
    },
    {
      "cell_type": "code",
      "metadata": {
        "colab": {
          "base_uri": "https://localhost:8080/",
          "height": 204
        },
        "id": "P4ZwEPKGmlvY",
        "outputId": "83faff52-7b8a-4790-854b-5169fc7e85ca"
      },
      "source": [
        "dataset.groupby('season').describe()['count']"
      ],
      "execution_count": 83,
      "outputs": [
        {
          "output_type": "execute_result",
          "data": {
            "text/html": [
              "<div>\n",
              "<style scoped>\n",
              "    .dataframe tbody tr th:only-of-type {\n",
              "        vertical-align: middle;\n",
              "    }\n",
              "\n",
              "    .dataframe tbody tr th {\n",
              "        vertical-align: top;\n",
              "    }\n",
              "\n",
              "    .dataframe thead th {\n",
              "        text-align: right;\n",
              "    }\n",
              "</style>\n",
              "<table border=\"1\" class=\"dataframe\">\n",
              "  <thead>\n",
              "    <tr style=\"text-align: right;\">\n",
              "      <th></th>\n",
              "      <th>count</th>\n",
              "      <th>mean</th>\n",
              "      <th>std</th>\n",
              "      <th>min</th>\n",
              "      <th>25%</th>\n",
              "      <th>50%</th>\n",
              "      <th>75%</th>\n",
              "      <th>max</th>\n",
              "    </tr>\n",
              "    <tr>\n",
              "      <th>season</th>\n",
              "      <th></th>\n",
              "      <th></th>\n",
              "      <th></th>\n",
              "      <th></th>\n",
              "      <th></th>\n",
              "      <th></th>\n",
              "      <th></th>\n",
              "      <th></th>\n",
              "    </tr>\n",
              "  </thead>\n",
              "  <tbody>\n",
              "    <tr>\n",
              "      <th>1</th>\n",
              "      <td>2686.0</td>\n",
              "      <td>116.343261</td>\n",
              "      <td>125.273974</td>\n",
              "      <td>1.0</td>\n",
              "      <td>24.0</td>\n",
              "      <td>78.0</td>\n",
              "      <td>164.0</td>\n",
              "      <td>801.0</td>\n",
              "    </tr>\n",
              "    <tr>\n",
              "      <th>2</th>\n",
              "      <td>2733.0</td>\n",
              "      <td>215.251372</td>\n",
              "      <td>192.007843</td>\n",
              "      <td>1.0</td>\n",
              "      <td>49.0</td>\n",
              "      <td>172.0</td>\n",
              "      <td>321.0</td>\n",
              "      <td>873.0</td>\n",
              "    </tr>\n",
              "    <tr>\n",
              "      <th>3</th>\n",
              "      <td>2733.0</td>\n",
              "      <td>234.417124</td>\n",
              "      <td>197.151001</td>\n",
              "      <td>1.0</td>\n",
              "      <td>68.0</td>\n",
              "      <td>195.0</td>\n",
              "      <td>347.0</td>\n",
              "      <td>977.0</td>\n",
              "    </tr>\n",
              "    <tr>\n",
              "      <th>4</th>\n",
              "      <td>2734.0</td>\n",
              "      <td>198.988296</td>\n",
              "      <td>177.622409</td>\n",
              "      <td>1.0</td>\n",
              "      <td>51.0</td>\n",
              "      <td>161.0</td>\n",
              "      <td>294.0</td>\n",
              "      <td>948.0</td>\n",
              "    </tr>\n",
              "  </tbody>\n",
              "</table>\n",
              "</div>"
            ],
            "text/plain": [
              "         count        mean         std  min   25%    50%    75%    max\n",
              "season                                                                \n",
              "1       2686.0  116.343261  125.273974  1.0  24.0   78.0  164.0  801.0\n",
              "2       2733.0  215.251372  192.007843  1.0  49.0  172.0  321.0  873.0\n",
              "3       2733.0  234.417124  197.151001  1.0  68.0  195.0  347.0  977.0\n",
              "4       2734.0  198.988296  177.622409  1.0  51.0  161.0  294.0  948.0"
            ]
          },
          "metadata": {
            "tags": []
          },
          "execution_count": 83
        }
      ]
    },
    {
      "cell_type": "code",
      "metadata": {
        "colab": {
          "base_uri": "https://localhost:8080/",
          "height": 204
        },
        "id": "zf2Wx4tanTzA",
        "outputId": "24b4ab2f-ad28-430f-b31f-c471b532ef42"
      },
      "source": [
        "# Which weather condition has more registration & profit\n",
        "dataset.groupby('weather').describe()['count']"
      ],
      "execution_count": 84,
      "outputs": [
        {
          "output_type": "execute_result",
          "data": {
            "text/html": [
              "<div>\n",
              "<style scoped>\n",
              "    .dataframe tbody tr th:only-of-type {\n",
              "        vertical-align: middle;\n",
              "    }\n",
              "\n",
              "    .dataframe tbody tr th {\n",
              "        vertical-align: top;\n",
              "    }\n",
              "\n",
              "    .dataframe thead th {\n",
              "        text-align: right;\n",
              "    }\n",
              "</style>\n",
              "<table border=\"1\" class=\"dataframe\">\n",
              "  <thead>\n",
              "    <tr style=\"text-align: right;\">\n",
              "      <th></th>\n",
              "      <th>count</th>\n",
              "      <th>mean</th>\n",
              "      <th>std</th>\n",
              "      <th>min</th>\n",
              "      <th>25%</th>\n",
              "      <th>50%</th>\n",
              "      <th>75%</th>\n",
              "      <th>max</th>\n",
              "    </tr>\n",
              "    <tr>\n",
              "      <th>weather</th>\n",
              "      <th></th>\n",
              "      <th></th>\n",
              "      <th></th>\n",
              "      <th></th>\n",
              "      <th></th>\n",
              "      <th></th>\n",
              "      <th></th>\n",
              "      <th></th>\n",
              "    </tr>\n",
              "  </thead>\n",
              "  <tbody>\n",
              "    <tr>\n",
              "      <th>1</th>\n",
              "      <td>7192.0</td>\n",
              "      <td>205.236791</td>\n",
              "      <td>187.959566</td>\n",
              "      <td>1.0</td>\n",
              "      <td>48.0</td>\n",
              "      <td>161.0</td>\n",
              "      <td>305.0</td>\n",
              "      <td>977.0</td>\n",
              "    </tr>\n",
              "    <tr>\n",
              "      <th>2</th>\n",
              "      <td>2834.0</td>\n",
              "      <td>178.955540</td>\n",
              "      <td>168.366413</td>\n",
              "      <td>1.0</td>\n",
              "      <td>41.0</td>\n",
              "      <td>134.0</td>\n",
              "      <td>264.0</td>\n",
              "      <td>890.0</td>\n",
              "    </tr>\n",
              "    <tr>\n",
              "      <th>3</th>\n",
              "      <td>859.0</td>\n",
              "      <td>118.846333</td>\n",
              "      <td>138.581297</td>\n",
              "      <td>1.0</td>\n",
              "      <td>23.0</td>\n",
              "      <td>71.0</td>\n",
              "      <td>161.0</td>\n",
              "      <td>891.0</td>\n",
              "    </tr>\n",
              "    <tr>\n",
              "      <th>4</th>\n",
              "      <td>1.0</td>\n",
              "      <td>164.000000</td>\n",
              "      <td>NaN</td>\n",
              "      <td>164.0</td>\n",
              "      <td>164.0</td>\n",
              "      <td>164.0</td>\n",
              "      <td>164.0</td>\n",
              "      <td>164.0</td>\n",
              "    </tr>\n",
              "  </tbody>\n",
              "</table>\n",
              "</div>"
            ],
            "text/plain": [
              "          count        mean         std    min    25%    50%    75%    max\n",
              "weather                                                                   \n",
              "1        7192.0  205.236791  187.959566    1.0   48.0  161.0  305.0  977.0\n",
              "2        2834.0  178.955540  168.366413    1.0   41.0  134.0  264.0  890.0\n",
              "3         859.0  118.846333  138.581297    1.0   23.0   71.0  161.0  891.0\n",
              "4           1.0  164.000000         NaN  164.0  164.0  164.0  164.0  164.0"
            ]
          },
          "metadata": {
            "tags": []
          },
          "execution_count": 84
        }
      ]
    },
    {
      "cell_type": "code",
      "metadata": {
        "colab": {
          "base_uri": "https://localhost:8080/",
          "height": 204
        },
        "id": "mQH0xWuXpDAp",
        "outputId": "07705fd5-f47b-49c1-ec41-1cd1c95fa099"
      },
      "source": [
        "dataset.groupby('season').describe()['profit']"
      ],
      "execution_count": 85,
      "outputs": [
        {
          "output_type": "execute_result",
          "data": {
            "text/html": [
              "<div>\n",
              "<style scoped>\n",
              "    .dataframe tbody tr th:only-of-type {\n",
              "        vertical-align: middle;\n",
              "    }\n",
              "\n",
              "    .dataframe tbody tr th {\n",
              "        vertical-align: top;\n",
              "    }\n",
              "\n",
              "    .dataframe thead th {\n",
              "        text-align: right;\n",
              "    }\n",
              "</style>\n",
              "<table border=\"1\" class=\"dataframe\">\n",
              "  <thead>\n",
              "    <tr style=\"text-align: right;\">\n",
              "      <th></th>\n",
              "      <th>count</th>\n",
              "      <th>mean</th>\n",
              "      <th>std</th>\n",
              "      <th>min</th>\n",
              "      <th>25%</th>\n",
              "      <th>50%</th>\n",
              "      <th>75%</th>\n",
              "      <th>max</th>\n",
              "    </tr>\n",
              "    <tr>\n",
              "      <th>season</th>\n",
              "      <th></th>\n",
              "      <th></th>\n",
              "      <th></th>\n",
              "      <th></th>\n",
              "      <th></th>\n",
              "      <th></th>\n",
              "      <th></th>\n",
              "      <th></th>\n",
              "    </tr>\n",
              "  </thead>\n",
              "  <tbody>\n",
              "    <tr>\n",
              "      <th>1</th>\n",
              "      <td>2686.0</td>\n",
              "      <td>699.920316</td>\n",
              "      <td>853.820568</td>\n",
              "      <td>4.128767</td>\n",
              "      <td>128.828767</td>\n",
              "      <td>438.428767</td>\n",
              "      <td>920.028767</td>\n",
              "      <td>7679.628767</td>\n",
              "    </tr>\n",
              "    <tr>\n",
              "      <th>2</th>\n",
              "      <td>2733.0</td>\n",
              "      <td>1537.472894</td>\n",
              "      <td>1453.088262</td>\n",
              "      <td>4.128767</td>\n",
              "      <td>322.328767</td>\n",
              "      <td>1216.728767</td>\n",
              "      <td>2244.428767</td>\n",
              "      <td>7795.728767</td>\n",
              "    </tr>\n",
              "    <tr>\n",
              "      <th>3</th>\n",
              "      <td>2733.0</td>\n",
              "      <td>1681.463893</td>\n",
              "      <td>1427.630038</td>\n",
              "      <td>4.128767</td>\n",
              "      <td>442.728767</td>\n",
              "      <td>1414.528767</td>\n",
              "      <td>2463.728767</td>\n",
              "      <td>7881.728767</td>\n",
              "    </tr>\n",
              "    <tr>\n",
              "      <th>4</th>\n",
              "      <td>2734.0</td>\n",
              "      <td>1224.171196</td>\n",
              "      <td>1185.870080</td>\n",
              "      <td>4.128767</td>\n",
              "      <td>292.228767</td>\n",
              "      <td>937.228767</td>\n",
              "      <td>1754.228767</td>\n",
              "      <td>7864.528767</td>\n",
              "    </tr>\n",
              "  </tbody>\n",
              "</table>\n",
              "</div>"
            ],
            "text/plain": [
              "         count         mean          std  ...          50%          75%          max\n",
              "season                                    ...                                       \n",
              "1       2686.0   699.920316   853.820568  ...   438.428767   920.028767  7679.628767\n",
              "2       2733.0  1537.472894  1453.088262  ...  1216.728767  2244.428767  7795.728767\n",
              "3       2733.0  1681.463893  1427.630038  ...  1414.528767  2463.728767  7881.728767\n",
              "4       2734.0  1224.171196  1185.870080  ...   937.228767  1754.228767  7864.528767\n",
              "\n",
              "[4 rows x 8 columns]"
            ]
          },
          "metadata": {
            "tags": []
          },
          "execution_count": 85
        }
      ]
    },
    {
      "cell_type": "code",
      "metadata": {
        "id": "HbqmfRXPpI0Y"
      },
      "source": [
        "# Correlation between profit & bikes_count with all features\n",
        "correlation = dataset.corr()[['count','profit']]"
      ],
      "execution_count": 86,
      "outputs": []
    },
    {
      "cell_type": "code",
      "metadata": {
        "colab": {
          "base_uri": "https://localhost:8080/",
          "height": 619
        },
        "id": "5UHbpfzmuJdD",
        "outputId": "209cceb4-16ae-4f9c-8b0f-aa59e80c588e"
      },
      "source": [
        "plt.figure(figsize=(20,10))\n",
        "sns.heatmap(correlation, cbar= True, square=True, annot=True, annot_kws={'size':10}, cmap='Blues')"
      ],
      "execution_count": 87,
      "outputs": [
        {
          "output_type": "execute_result",
          "data": {
            "text/plain": [
              "<matplotlib.axes._subplots.AxesSubplot at 0x7fcb5fb11850>"
            ]
          },
          "metadata": {
            "tags": []
          },
          "execution_count": 87
        },
        {
          "output_type": "display_data",
          "data": {
            "image/png": "[encoded data removed]",
            "text/plain": [
              "<Figure size 1440x720 with 2 Axes>"
            ]
          },
          "metadata": {
            "tags": []
          }
        }
      ]
    },
    {
      "cell_type": "code",
      "metadata": {
        "id": "URDV6dCFuPHv"
      },
      "source": [
        "# rental & profit during rush hours ( 7-9 am  &  3-5(15-17) pm )\n",
        "def is_rush_hour(hour):\n",
        "  return 1 if(hour in [7,8,9,15,16,17]) else 0\n",
        "\n",
        "dataset['is_rush_hour'] = dataset['hour'].apply(is_rush_hour)\n",
        "# or \n",
        "#dataset['is_rush_hour'] = dataset['hour'].apply(lambda hour: 1 if(hour in range(7,9),range(15,17)) else 0)"
      ],
      "execution_count": 88,
      "outputs": []
    },
    {
      "cell_type": "code",
      "metadata": {
        "colab": {
          "base_uri": "https://localhost:8080/",
          "height": 394
        },
        "id": "M41uG1N6xuNL",
        "outputId": "97728e62-380e-4aef-820c-041e96ebd2e8"
      },
      "source": [
        "dataset.head()"
      ],
      "execution_count": 89,
      "outputs": [
        {
          "output_type": "execute_result",
          "data": {
            "text/html": [
              "<div>\n",
              "<style scoped>\n",
              "    .dataframe tbody tr th:only-of-type {\n",
              "        vertical-align: middle;\n",
              "    }\n",
              "\n",
              "    .dataframe tbody tr th {\n",
              "        vertical-align: top;\n",
              "    }\n",
              "\n",
              "    .dataframe thead th {\n",
              "        text-align: right;\n",
              "    }\n",
              "</style>\n",
              "<table border=\"1\" class=\"dataframe\">\n",
              "  <thead>\n",
              "    <tr style=\"text-align: right;\">\n",
              "      <th></th>\n",
              "      <th>datetime</th>\n",
              "      <th>season</th>\n",
              "      <th>holiday</th>\n",
              "      <th>workingday</th>\n",
              "      <th>weather</th>\n",
              "      <th>temp</th>\n",
              "      <th>atemp</th>\n",
              "      <th>humidity</th>\n",
              "      <th>windspeed</th>\n",
              "      <th>casual</th>\n",
              "      <th>registered</th>\n",
              "      <th>count</th>\n",
              "      <th>profit</th>\n",
              "      <th>year</th>\n",
              "      <th>month</th>\n",
              "      <th>day_of_week</th>\n",
              "      <th>hour</th>\n",
              "      <th>is_rush_hour</th>\n",
              "    </tr>\n",
              "  </thead>\n",
              "  <tbody>\n",
              "    <tr>\n",
              "      <th>0</th>\n",
              "      <td>2011-01-01 00:00:00</td>\n",
              "      <td>1</td>\n",
              "      <td>0</td>\n",
              "      <td>0</td>\n",
              "      <td>1</td>\n",
              "      <td>9.84</td>\n",
              "      <td>14.395</td>\n",
              "      <td>81</td>\n",
              "      <td>0.0</td>\n",
              "      <td>3</td>\n",
              "      <td>13</td>\n",
              "      <td>16</td>\n",
              "      <td>107.328767</td>\n",
              "      <td>2011</td>\n",
              "      <td>January</td>\n",
              "      <td>Saturday</td>\n",
              "      <td>0</td>\n",
              "      <td>0</td>\n",
              "    </tr>\n",
              "    <tr>\n",
              "      <th>1</th>\n",
              "      <td>2011-01-01 01:00:00</td>\n",
              "      <td>1</td>\n",
              "      <td>0</td>\n",
              "      <td>0</td>\n",
              "      <td>1</td>\n",
              "      <td>9.02</td>\n",
              "      <td>13.635</td>\n",
              "      <td>80</td>\n",
              "      <td>0.0</td>\n",
              "      <td>8</td>\n",
              "      <td>32</td>\n",
              "      <td>40</td>\n",
              "      <td>275.028767</td>\n",
              "      <td>2011</td>\n",
              "      <td>January</td>\n",
              "      <td>Saturday</td>\n",
              "      <td>1</td>\n",
              "      <td>0</td>\n",
              "    </tr>\n",
              "    <tr>\n",
              "      <th>2</th>\n",
              "      <td>2011-01-01 02:00:00</td>\n",
              "      <td>1</td>\n",
              "      <td>0</td>\n",
              "      <td>0</td>\n",
              "      <td>1</td>\n",
              "      <td>9.02</td>\n",
              "      <td>13.635</td>\n",
              "      <td>80</td>\n",
              "      <td>0.0</td>\n",
              "      <td>5</td>\n",
              "      <td>27</td>\n",
              "      <td>32</td>\n",
              "      <td>201.928767</td>\n",
              "      <td>2011</td>\n",
              "      <td>January</td>\n",
              "      <td>Saturday</td>\n",
              "      <td>2</td>\n",
              "      <td>0</td>\n",
              "    </tr>\n",
              "    <tr>\n",
              "      <th>3</th>\n",
              "      <td>2011-01-01 03:00:00</td>\n",
              "      <td>1</td>\n",
              "      <td>0</td>\n",
              "      <td>0</td>\n",
              "      <td>1</td>\n",
              "      <td>9.84</td>\n",
              "      <td>14.395</td>\n",
              "      <td>75</td>\n",
              "      <td>0.0</td>\n",
              "      <td>3</td>\n",
              "      <td>10</td>\n",
              "      <td>13</td>\n",
              "      <td>94.428767</td>\n",
              "      <td>2011</td>\n",
              "      <td>January</td>\n",
              "      <td>Saturday</td>\n",
              "      <td>3</td>\n",
              "      <td>0</td>\n",
              "    </tr>\n",
              "    <tr>\n",
              "      <th>4</th>\n",
              "      <td>2011-01-01 04:00:00</td>\n",
              "      <td>1</td>\n",
              "      <td>0</td>\n",
              "      <td>0</td>\n",
              "      <td>1</td>\n",
              "      <td>9.84</td>\n",
              "      <td>14.395</td>\n",
              "      <td>75</td>\n",
              "      <td>0.0</td>\n",
              "      <td>0</td>\n",
              "      <td>1</td>\n",
              "      <td>1</td>\n",
              "      <td>4.128767</td>\n",
              "      <td>2011</td>\n",
              "      <td>January</td>\n",
              "      <td>Saturday</td>\n",
              "      <td>4</td>\n",
              "      <td>0</td>\n",
              "    </tr>\n",
              "  </tbody>\n",
              "</table>\n",
              "</div>"
            ],
            "text/plain": [
              "             datetime  season  holiday  ...  day_of_week  hour  is_rush_hour\n",
              "0 2011-01-01 00:00:00       1        0  ...     Saturday     0             0\n",
              "1 2011-01-01 01:00:00       1        0  ...     Saturday     1             0\n",
              "2 2011-01-01 02:00:00       1        0  ...     Saturday     2             0\n",
              "3 2011-01-01 03:00:00       1        0  ...     Saturday     3             0\n",
              "4 2011-01-01 04:00:00       1        0  ...     Saturday     4             0\n",
              "\n",
              "[5 rows x 18 columns]"
            ]
          },
          "metadata": {
            "tags": []
          },
          "execution_count": 89
        }
      ]
    },
    {
      "cell_type": "code",
      "metadata": {
        "colab": {
          "base_uri": "https://localhost:8080/",
          "height": 297
        },
        "id": "FD-8cpu50S7p",
        "outputId": "93ce0478-c9bf-4ce1-91ac-a4a04780a9f6"
      },
      "source": [
        "dataset.groupby('is_rush_hour').describe()['profit'].transpose()"
      ],
      "execution_count": 90,
      "outputs": [
        {
          "output_type": "execute_result",
          "data": {
            "text/html": [
              "<div>\n",
              "<style scoped>\n",
              "    .dataframe tbody tr th:only-of-type {\n",
              "        vertical-align: middle;\n",
              "    }\n",
              "\n",
              "    .dataframe tbody tr th {\n",
              "        vertical-align: top;\n",
              "    }\n",
              "\n",
              "    .dataframe thead th {\n",
              "        text-align: right;\n",
              "    }\n",
              "</style>\n",
              "<table border=\"1\" class=\"dataframe\">\n",
              "  <thead>\n",
              "    <tr style=\"text-align: right;\">\n",
              "      <th>is_rush_hour</th>\n",
              "      <th>0</th>\n",
              "      <th>1</th>\n",
              "    </tr>\n",
              "  </thead>\n",
              "  <tbody>\n",
              "    <tr>\n",
              "      <th>count</th>\n",
              "      <td>8153.000000</td>\n",
              "      <td>2733.000000</td>\n",
              "    </tr>\n",
              "    <tr>\n",
              "      <th>mean</th>\n",
              "      <td>1069.674358</td>\n",
              "      <td>1940.420498</td>\n",
              "    </tr>\n",
              "    <tr>\n",
              "      <th>std</th>\n",
              "      <td>1217.987206</td>\n",
              "      <td>1356.260623</td>\n",
              "    </tr>\n",
              "    <tr>\n",
              "      <th>min</th>\n",
              "      <td>4.128767</td>\n",
              "      <td>4.128767</td>\n",
              "    </tr>\n",
              "    <tr>\n",
              "      <th>25%</th>\n",
              "      <td>158.928767</td>\n",
              "      <td>937.228767</td>\n",
              "    </tr>\n",
              "    <tr>\n",
              "      <th>50%</th>\n",
              "      <td>644.828767</td>\n",
              "      <td>1689.728767</td>\n",
              "    </tr>\n",
              "    <tr>\n",
              "      <th>75%</th>\n",
              "      <td>1547.828767</td>\n",
              "      <td>2622.828767</td>\n",
              "    </tr>\n",
              "    <tr>\n",
              "      <th>max</th>\n",
              "      <td>7864.528767</td>\n",
              "      <td>7881.728767</td>\n",
              "    </tr>\n",
              "  </tbody>\n",
              "</table>\n",
              "</div>"
            ],
            "text/plain": [
              "is_rush_hour            0            1\n",
              "count         8153.000000  2733.000000\n",
              "mean          1069.674358  1940.420498\n",
              "std           1217.987206  1356.260623\n",
              "min              4.128767     4.128767\n",
              "25%            158.928767   937.228767\n",
              "50%            644.828767  1689.728767\n",
              "75%           1547.828767  2622.828767\n",
              "max           7864.528767  7881.728767"
            ]
          },
          "metadata": {
            "tags": []
          },
          "execution_count": 90
        }
      ]
    },
    {
      "cell_type": "code",
      "metadata": {
        "colab": {
          "base_uri": "https://localhost:8080/",
          "height": 297
        },
        "id": "Iv1lRt2c0wIe",
        "outputId": "3d9209c0-f80c-4da0-dd71-fb64521d95c1"
      },
      "source": [
        "dataset.groupby('is_rush_hour').describe()['count'].transpose()"
      ],
      "execution_count": 91,
      "outputs": [
        {
          "output_type": "execute_result",
          "data": {
            "text/html": [
              "<div>\n",
              "<style scoped>\n",
              "    .dataframe tbody tr th:only-of-type {\n",
              "        vertical-align: middle;\n",
              "    }\n",
              "\n",
              "    .dataframe tbody tr th {\n",
              "        vertical-align: top;\n",
              "    }\n",
              "\n",
              "    .dataframe thead th {\n",
              "        text-align: right;\n",
              "    }\n",
              "</style>\n",
              "<table border=\"1\" class=\"dataframe\">\n",
              "  <thead>\n",
              "    <tr style=\"text-align: right;\">\n",
              "      <th>is_rush_hour</th>\n",
              "      <th>0</th>\n",
              "      <th>1</th>\n",
              "    </tr>\n",
              "  </thead>\n",
              "  <tbody>\n",
              "    <tr>\n",
              "      <th>count</th>\n",
              "      <td>8153.000000</td>\n",
              "      <td>2733.000000</td>\n",
              "    </tr>\n",
              "    <tr>\n",
              "      <th>mean</th>\n",
              "      <td>153.140562</td>\n",
              "      <td>306.227955</td>\n",
              "    </tr>\n",
              "    <tr>\n",
              "      <th>std</th>\n",
              "      <td>158.808647</td>\n",
              "      <td>194.740685</td>\n",
              "    </tr>\n",
              "    <tr>\n",
              "      <th>min</th>\n",
              "      <td>1.000000</td>\n",
              "      <td>1.000000</td>\n",
              "    </tr>\n",
              "    <tr>\n",
              "      <th>25%</th>\n",
              "      <td>26.000000</td>\n",
              "      <td>157.000000</td>\n",
              "    </tr>\n",
              "    <tr>\n",
              "      <th>50%</th>\n",
              "      <td>108.000000</td>\n",
              "      <td>276.000000</td>\n",
              "    </tr>\n",
              "    <tr>\n",
              "      <th>75%</th>\n",
              "      <td>225.000000</td>\n",
              "      <td>420.000000</td>\n",
              "    </tr>\n",
              "    <tr>\n",
              "      <th>max</th>\n",
              "      <td>977.000000</td>\n",
              "      <td>970.000000</td>\n",
              "    </tr>\n",
              "  </tbody>\n",
              "</table>\n",
              "</div>"
            ],
            "text/plain": [
              "is_rush_hour            0            1\n",
              "count         8153.000000  2733.000000\n",
              "mean           153.140562   306.227955\n",
              "std            158.808647   194.740685\n",
              "min              1.000000     1.000000\n",
              "25%             26.000000   157.000000\n",
              "50%            108.000000   276.000000\n",
              "75%            225.000000   420.000000\n",
              "max            977.000000   970.000000"
            ]
          },
          "metadata": {
            "tags": []
          },
          "execution_count": 91
        }
      ]
    },
    {
      "cell_type": "code",
      "metadata": {
        "colab": {
          "base_uri": "https://localhost:8080/",
          "height": 297
        },
        "id": "5MvEwTle0wFg",
        "outputId": "ff4009d5-b5d8-4ce6-b238-cb11777a4df2"
      },
      "source": [
        "# rantal & profit during workingday & holiday\n",
        "dataset.groupby('holiday').describe()['profit'].transpose()\n",
        "dataset.groupby('workingday').describe()['profit'].transpose()"
      ],
      "execution_count": 92,
      "outputs": [
        {
          "output_type": "execute_result",
          "data": {
            "text/html": [
              "<div>\n",
              "<style scoped>\n",
              "    .dataframe tbody tr th:only-of-type {\n",
              "        vertical-align: middle;\n",
              "    }\n",
              "\n",
              "    .dataframe tbody tr th {\n",
              "        vertical-align: top;\n",
              "    }\n",
              "\n",
              "    .dataframe thead th {\n",
              "        text-align: right;\n",
              "    }\n",
              "</style>\n",
              "<table border=\"1\" class=\"dataframe\">\n",
              "  <thead>\n",
              "    <tr style=\"text-align: right;\">\n",
              "      <th>workingday</th>\n",
              "      <th>0</th>\n",
              "      <th>1</th>\n",
              "    </tr>\n",
              "  </thead>\n",
              "  <tbody>\n",
              "    <tr>\n",
              "      <th>count</th>\n",
              "      <td>3474.000000</td>\n",
              "      <td>7412.000000</td>\n",
              "    </tr>\n",
              "    <tr>\n",
              "      <th>mean</th>\n",
              "      <td>1575.484179</td>\n",
              "      <td>1153.668675</td>\n",
              "    </tr>\n",
              "    <tr>\n",
              "      <th>std</th>\n",
              "      <td>1657.985547</td>\n",
              "      <td>1083.659550</td>\n",
              "    </tr>\n",
              "    <tr>\n",
              "      <th>min</th>\n",
              "      <td>4.128767</td>\n",
              "      <td>4.128767</td>\n",
              "    </tr>\n",
              "    <tr>\n",
              "      <th>25%</th>\n",
              "      <td>283.628767</td>\n",
              "      <td>236.328767</td>\n",
              "    </tr>\n",
              "    <tr>\n",
              "      <th>50%</th>\n",
              "      <td>887.778767</td>\n",
              "      <td>889.928767</td>\n",
              "    </tr>\n",
              "    <tr>\n",
              "      <th>75%</th>\n",
              "      <td>2493.828767</td>\n",
              "      <td>1758.528767</td>\n",
              "    </tr>\n",
              "    <tr>\n",
              "      <th>max</th>\n",
              "      <td>7881.728767</td>\n",
              "      <td>6338.028767</td>\n",
              "    </tr>\n",
              "  </tbody>\n",
              "</table>\n",
              "</div>"
            ],
            "text/plain": [
              "workingday            0            1\n",
              "count       3474.000000  7412.000000\n",
              "mean        1575.484179  1153.668675\n",
              "std         1657.985547  1083.659550\n",
              "min            4.128767     4.128767\n",
              "25%          283.628767   236.328767\n",
              "50%          887.778767   889.928767\n",
              "75%         2493.828767  1758.528767\n",
              "max         7881.728767  6338.028767"
            ]
          },
          "metadata": {
            "tags": []
          },
          "execution_count": 92
        }
      ]
    },
    {
      "cell_type": "code",
      "metadata": {
        "colab": {
          "base_uri": "https://localhost:8080/",
          "height": 297
        },
        "id": "JDjjPJL10wCy",
        "outputId": "b38258cb-fe28-437f-ce47-ec28dc1bc245"
      },
      "source": [
        "dataset.groupby('holiday').describe()['profit'].transpose()"
      ],
      "execution_count": 93,
      "outputs": [
        {
          "output_type": "execute_result",
          "data": {
            "text/html": [
              "<div>\n",
              "<style scoped>\n",
              "    .dataframe tbody tr th:only-of-type {\n",
              "        vertical-align: middle;\n",
              "    }\n",
              "\n",
              "    .dataframe tbody tr th {\n",
              "        vertical-align: top;\n",
              "    }\n",
              "\n",
              "    .dataframe thead th {\n",
              "        text-align: right;\n",
              "    }\n",
              "</style>\n",
              "<table border=\"1\" class=\"dataframe\">\n",
              "  <thead>\n",
              "    <tr style=\"text-align: right;\">\n",
              "      <th>holiday</th>\n",
              "      <th>0</th>\n",
              "      <th>1</th>\n",
              "    </tr>\n",
              "  </thead>\n",
              "  <tbody>\n",
              "    <tr>\n",
              "      <th>count</th>\n",
              "      <td>10575.000000</td>\n",
              "      <td>311.000000</td>\n",
              "    </tr>\n",
              "    <tr>\n",
              "      <th>mean</th>\n",
              "      <td>1284.160493</td>\n",
              "      <td>1428.382786</td>\n",
              "    </tr>\n",
              "    <tr>\n",
              "      <th>std</th>\n",
              "      <td>1305.224861</td>\n",
              "      <td>1448.518613</td>\n",
              "    </tr>\n",
              "    <tr>\n",
              "      <th>min</th>\n",
              "      <td>4.128767</td>\n",
              "      <td>4.128767</td>\n",
              "    </tr>\n",
              "    <tr>\n",
              "      <th>25%</th>\n",
              "      <td>253.528767</td>\n",
              "      <td>251.378767</td>\n",
              "    </tr>\n",
              "    <tr>\n",
              "      <th>50%</th>\n",
              "      <td>889.928767</td>\n",
              "      <td>877.028767</td>\n",
              "    </tr>\n",
              "    <tr>\n",
              "      <th>75%</th>\n",
              "      <td>1883.228767</td>\n",
              "      <td>2371.278767</td>\n",
              "    </tr>\n",
              "    <tr>\n",
              "      <th>max</th>\n",
              "      <td>7881.728767</td>\n",
              "      <td>5426.428767</td>\n",
              "    </tr>\n",
              "  </tbody>\n",
              "</table>\n",
              "</div>"
            ],
            "text/plain": [
              "holiday             0            1\n",
              "count    10575.000000   311.000000\n",
              "mean      1284.160493  1428.382786\n",
              "std       1305.224861  1448.518613\n",
              "min          4.128767     4.128767\n",
              "25%        253.528767   251.378767\n",
              "50%        889.928767   877.028767\n",
              "75%       1883.228767  2371.278767\n",
              "max       7881.728767  5426.428767"
            ]
          },
          "metadata": {
            "tags": []
          },
          "execution_count": 93
        }
      ]
    },
    {
      "cell_type": "code",
      "metadata": {
        "colab": {
          "base_uri": "https://localhost:8080/",
          "height": 111
        },
        "id": "si2q_Nud1sqz",
        "outputId": "0ec4ea89-7343-40a8-ce0a-7eb7d726ba29"
      },
      "source": [
        "# registered or casual is more\n",
        "correlation.loc[['casual','registered']]"
      ],
      "execution_count": 94,
      "outputs": [
        {
          "output_type": "execute_result",
          "data": {
            "text/html": [
              "<div>\n",
              "<style scoped>\n",
              "    .dataframe tbody tr th:only-of-type {\n",
              "        vertical-align: middle;\n",
              "    }\n",
              "\n",
              "    .dataframe tbody tr th {\n",
              "        vertical-align: top;\n",
              "    }\n",
              "\n",
              "    .dataframe thead th {\n",
              "        text-align: right;\n",
              "    }\n",
              "</style>\n",
              "<table border=\"1\" class=\"dataframe\">\n",
              "  <thead>\n",
              "    <tr style=\"text-align: right;\">\n",
              "      <th></th>\n",
              "      <th>count</th>\n",
              "      <th>profit</th>\n",
              "    </tr>\n",
              "  </thead>\n",
              "  <tbody>\n",
              "    <tr>\n",
              "      <th>casual</th>\n",
              "      <td>0.690414</td>\n",
              "      <td>0.902713</td>\n",
              "    </tr>\n",
              "    <tr>\n",
              "      <th>registered</th>\n",
              "      <td>0.970948</td>\n",
              "      <td>0.822156</td>\n",
              "    </tr>\n",
              "  </tbody>\n",
              "</table>\n",
              "</div>"
            ],
            "text/plain": [
              "               count    profit\n",
              "casual      0.690414  0.902713\n",
              "registered  0.970948  0.822156"
            ]
          },
          "metadata": {
            "tags": []
          },
          "execution_count": 94
        }
      ]
    },
    {
      "cell_type": "code",
      "metadata": {
        "colab": {
          "base_uri": "https://localhost:8080/"
        },
        "id": "GV6_7UH81soo",
        "outputId": "7fd8fabf-16da-4b45-fb83-bdaf688cf141"
      },
      "source": [
        "# what is the average of bikes would be rented during the week\n",
        "dataset.groupby('day_of_week').mean()['count']"
      ],
      "execution_count": 95,
      "outputs": [
        {
          "output_type": "execute_result",
          "data": {
            "text/plain": [
              "day_of_week\n",
              "Friday       197.844343\n",
              "Monday       190.390716\n",
              "Saturday     196.665404\n",
              "Sunday       180.839772\n",
              "Thursday     197.296201\n",
              "Tuesday      189.723847\n",
              "Wednesday    188.411348\n",
              "Name: count, dtype: float64"
            ]
          },
          "metadata": {
            "tags": []
          },
          "execution_count": 95
        }
      ]
    },
    {
      "cell_type": "code",
      "metadata": {
        "colab": {
          "base_uri": "https://localhost:8080/"
        },
        "id": "CP2ZYvAv5I0q",
        "outputId": "9b6ec109-e601-4755-9290-d073a6f9f852"
      },
      "source": [
        "dataset['month'].unique()"
      ],
      "execution_count": 96,
      "outputs": [
        {
          "output_type": "execute_result",
          "data": {
            "text/plain": [
              "array(['January', 'February', 'March', 'April', 'May', 'June', 'July',\n",
              "       'August', 'September', 'October', 'November', 'December'],\n",
              "      dtype=object)"
            ]
          },
          "metadata": {
            "tags": []
          },
          "execution_count": 96
        }
      ]
    },
    {
      "cell_type": "code",
      "metadata": {
        "id": "sorVbzog1slq"
      },
      "source": [
        "# schools (9-12) & (2-9) profit\n",
        "def check(x):\n",
        "  return 1 if(x in ['September','October','November','December','February','March','April','May','June']) else 0\n",
        "\n",
        "dataset['school_time'] = dataset['month'].apply(check)"
      ],
      "execution_count": 97,
      "outputs": []
    },
    {
      "cell_type": "code",
      "metadata": {
        "colab": {
          "base_uri": "https://localhost:8080/",
          "height": 394
        },
        "id": "s568L4ke1sjv",
        "outputId": "f4c2c1e7-2add-4107-dd32-5481e1274d77"
      },
      "source": [
        "dataset.head()"
      ],
      "execution_count": 98,
      "outputs": [
        {
          "output_type": "execute_result",
          "data": {
            "text/html": [
              "<div>\n",
              "<style scoped>\n",
              "    .dataframe tbody tr th:only-of-type {\n",
              "        vertical-align: middle;\n",
              "    }\n",
              "\n",
              "    .dataframe tbody tr th {\n",
              "        vertical-align: top;\n",
              "    }\n",
              "\n",
              "    .dataframe thead th {\n",
              "        text-align: right;\n",
              "    }\n",
              "</style>\n",
              "<table border=\"1\" class=\"dataframe\">\n",
              "  <thead>\n",
              "    <tr style=\"text-align: right;\">\n",
              "      <th></th>\n",
              "      <th>datetime</th>\n",
              "      <th>season</th>\n",
              "      <th>holiday</th>\n",
              "      <th>workingday</th>\n",
              "      <th>weather</th>\n",
              "      <th>temp</th>\n",
              "      <th>atemp</th>\n",
              "      <th>humidity</th>\n",
              "      <th>windspeed</th>\n",
              "      <th>casual</th>\n",
              "      <th>registered</th>\n",
              "      <th>count</th>\n",
              "      <th>profit</th>\n",
              "      <th>year</th>\n",
              "      <th>month</th>\n",
              "      <th>day_of_week</th>\n",
              "      <th>hour</th>\n",
              "      <th>is_rush_hour</th>\n",
              "      <th>school_time</th>\n",
              "    </tr>\n",
              "  </thead>\n",
              "  <tbody>\n",
              "    <tr>\n",
              "      <th>0</th>\n",
              "      <td>2011-01-01 00:00:00</td>\n",
              "      <td>1</td>\n",
              "      <td>0</td>\n",
              "      <td>0</td>\n",
              "      <td>1</td>\n",
              "      <td>9.84</td>\n",
              "      <td>14.395</td>\n",
              "      <td>81</td>\n",
              "      <td>0.0</td>\n",
              "      <td>3</td>\n",
              "      <td>13</td>\n",
              "      <td>16</td>\n",
              "      <td>107.328767</td>\n",
              "      <td>2011</td>\n",
              "      <td>January</td>\n",
              "      <td>Saturday</td>\n",
              "      <td>0</td>\n",
              "      <td>0</td>\n",
              "      <td>0</td>\n",
              "    </tr>\n",
              "    <tr>\n",
              "      <th>1</th>\n",
              "      <td>2011-01-01 01:00:00</td>\n",
              "      <td>1</td>\n",
              "      <td>0</td>\n",
              "      <td>0</td>\n",
              "      <td>1</td>\n",
              "      <td>9.02</td>\n",
              "      <td>13.635</td>\n",
              "      <td>80</td>\n",
              "      <td>0.0</td>\n",
              "      <td>8</td>\n",
              "      <td>32</td>\n",
              "      <td>40</td>\n",
              "      <td>275.028767</td>\n",
              "      <td>2011</td>\n",
              "      <td>January</td>\n",
              "      <td>Saturday</td>\n",
              "      <td>1</td>\n",
              "      <td>0</td>\n",
              "      <td>0</td>\n",
              "    </tr>\n",
              "    <tr>\n",
              "      <th>2</th>\n",
              "      <td>2011-01-01 02:00:00</td>\n",
              "      <td>1</td>\n",
              "      <td>0</td>\n",
              "      <td>0</td>\n",
              "      <td>1</td>\n",
              "      <td>9.02</td>\n",
              "      <td>13.635</td>\n",
              "      <td>80</td>\n",
              "      <td>0.0</td>\n",
              "      <td>5</td>\n",
              "      <td>27</td>\n",
              "      <td>32</td>\n",
              "      <td>201.928767</td>\n",
              "      <td>2011</td>\n",
              "      <td>January</td>\n",
              "      <td>Saturday</td>\n",
              "      <td>2</td>\n",
              "      <td>0</td>\n",
              "      <td>0</td>\n",
              "    </tr>\n",
              "    <tr>\n",
              "      <th>3</th>\n",
              "      <td>2011-01-01 03:00:00</td>\n",
              "      <td>1</td>\n",
              "      <td>0</td>\n",
              "      <td>0</td>\n",
              "      <td>1</td>\n",
              "      <td>9.84</td>\n",
              "      <td>14.395</td>\n",
              "      <td>75</td>\n",
              "      <td>0.0</td>\n",
              "      <td>3</td>\n",
              "      <td>10</td>\n",
              "      <td>13</td>\n",
              "      <td>94.428767</td>\n",
              "      <td>2011</td>\n",
              "      <td>January</td>\n",
              "      <td>Saturday</td>\n",
              "      <td>3</td>\n",
              "      <td>0</td>\n",
              "      <td>0</td>\n",
              "    </tr>\n",
              "    <tr>\n",
              "      <th>4</th>\n",
              "      <td>2011-01-01 04:00:00</td>\n",
              "      <td>1</td>\n",
              "      <td>0</td>\n",
              "      <td>0</td>\n",
              "      <td>1</td>\n",
              "      <td>9.84</td>\n",
              "      <td>14.395</td>\n",
              "      <td>75</td>\n",
              "      <td>0.0</td>\n",
              "      <td>0</td>\n",
              "      <td>1</td>\n",
              "      <td>1</td>\n",
              "      <td>4.128767</td>\n",
              "      <td>2011</td>\n",
              "      <td>January</td>\n",
              "      <td>Saturday</td>\n",
              "      <td>4</td>\n",
              "      <td>0</td>\n",
              "      <td>0</td>\n",
              "    </tr>\n",
              "  </tbody>\n",
              "</table>\n",
              "</div>"
            ],
            "text/plain": [
              "             datetime  season  holiday  ...  hour  is_rush_hour  school_time\n",
              "0 2011-01-01 00:00:00       1        0  ...     0             0            0\n",
              "1 2011-01-01 01:00:00       1        0  ...     1             0            0\n",
              "2 2011-01-01 02:00:00       1        0  ...     2             0            0\n",
              "3 2011-01-01 03:00:00       1        0  ...     3             0            0\n",
              "4 2011-01-01 04:00:00       1        0  ...     4             0            0\n",
              "\n",
              "[5 rows x 19 columns]"
            ]
          },
          "metadata": {
            "tags": []
          },
          "execution_count": 98
        }
      ]
    },
    {
      "cell_type": "code",
      "metadata": {
        "colab": {
          "base_uri": "https://localhost:8080/",
          "height": 142
        },
        "id": "fAbBxnZG1sgk",
        "outputId": "939ffa0b-c234-4344-bcdc-bbe3e52f8acc"
      },
      "source": [
        "dataset.groupby('school_time').describe()['profit']"
      ],
      "execution_count": 99,
      "outputs": [
        {
          "output_type": "execute_result",
          "data": {
            "text/html": [
              "<div>\n",
              "<style scoped>\n",
              "    .dataframe tbody tr th:only-of-type {\n",
              "        vertical-align: middle;\n",
              "    }\n",
              "\n",
              "    .dataframe tbody tr th {\n",
              "        vertical-align: top;\n",
              "    }\n",
              "\n",
              "    .dataframe thead th {\n",
              "        text-align: right;\n",
              "    }\n",
              "</style>\n",
              "<table border=\"1\" class=\"dataframe\">\n",
              "  <thead>\n",
              "    <tr style=\"text-align: right;\">\n",
              "      <th></th>\n",
              "      <th>count</th>\n",
              "      <th>mean</th>\n",
              "      <th>std</th>\n",
              "      <th>min</th>\n",
              "      <th>25%</th>\n",
              "      <th>50%</th>\n",
              "      <th>75%</th>\n",
              "      <th>max</th>\n",
              "    </tr>\n",
              "    <tr>\n",
              "      <th>school_time</th>\n",
              "      <th></th>\n",
              "      <th></th>\n",
              "      <th></th>\n",
              "      <th></th>\n",
              "      <th></th>\n",
              "      <th></th>\n",
              "      <th></th>\n",
              "      <th></th>\n",
              "    </tr>\n",
              "  </thead>\n",
              "  <tbody>\n",
              "    <tr>\n",
              "      <th>0</th>\n",
              "      <td>2708.0</td>\n",
              "      <td>1302.252401</td>\n",
              "      <td>1290.751798</td>\n",
              "      <td>4.128767</td>\n",
              "      <td>240.628767</td>\n",
              "      <td>881.328767</td>\n",
              "      <td>2038.028767</td>\n",
              "      <td>6497.128767</td>\n",
              "    </tr>\n",
              "    <tr>\n",
              "      <th>1</th>\n",
              "      <td>8178.0</td>\n",
              "      <td>1283.654287</td>\n",
              "      <td>1315.937715</td>\n",
              "      <td>4.128767</td>\n",
              "      <td>257.828767</td>\n",
              "      <td>894.228767</td>\n",
              "      <td>1848.828767</td>\n",
              "      <td>7881.728767</td>\n",
              "    </tr>\n",
              "  </tbody>\n",
              "</table>\n",
              "</div>"
            ],
            "text/plain": [
              "              count         mean  ...          75%          max\n",
              "school_time                       ...                          \n",
              "0            2708.0  1302.252401  ...  2038.028767  6497.128767\n",
              "1            8178.0  1283.654287  ...  1848.828767  7881.728767\n",
              "\n",
              "[2 rows x 8 columns]"
            ]
          },
          "metadata": {
            "tags": []
          },
          "execution_count": 99
        }
      ]
    },
    {
      "cell_type": "code",
      "metadata": {
        "colab": {
          "base_uri": "https://localhost:8080/",
          "height": 142
        },
        "id": "m0lrdLOT1sds",
        "outputId": "b6c123a6-7f04-4449-f273-9ed4b95c0e90"
      },
      "source": [
        "dataset.groupby('school_time').describe()['count']"
      ],
      "execution_count": 100,
      "outputs": [
        {
          "output_type": "execute_result",
          "data": {
            "text/html": [
              "<div>\n",
              "<style scoped>\n",
              "    .dataframe tbody tr th:only-of-type {\n",
              "        vertical-align: middle;\n",
              "    }\n",
              "\n",
              "    .dataframe tbody tr th {\n",
              "        vertical-align: top;\n",
              "    }\n",
              "\n",
              "    .dataframe thead th {\n",
              "        text-align: right;\n",
              "    }\n",
              "</style>\n",
              "<table border=\"1\" class=\"dataframe\">\n",
              "  <thead>\n",
              "    <tr style=\"text-align: right;\">\n",
              "      <th></th>\n",
              "      <th>count</th>\n",
              "      <th>mean</th>\n",
              "      <th>std</th>\n",
              "      <th>min</th>\n",
              "      <th>25%</th>\n",
              "      <th>50%</th>\n",
              "      <th>75%</th>\n",
              "      <th>max</th>\n",
              "    </tr>\n",
              "    <tr>\n",
              "      <th>school_time</th>\n",
              "      <th></th>\n",
              "      <th></th>\n",
              "      <th></th>\n",
              "      <th></th>\n",
              "      <th></th>\n",
              "      <th></th>\n",
              "      <th></th>\n",
              "      <th></th>\n",
              "    </tr>\n",
              "  </thead>\n",
              "  <tbody>\n",
              "    <tr>\n",
              "      <th>0</th>\n",
              "      <td>2708.0</td>\n",
              "      <td>187.598597</td>\n",
              "      <td>179.258377</td>\n",
              "      <td>1.0</td>\n",
              "      <td>40.0</td>\n",
              "      <td>139.0</td>\n",
              "      <td>282.0</td>\n",
              "      <td>897.0</td>\n",
              "    </tr>\n",
              "    <tr>\n",
              "      <th>1</th>\n",
              "      <td>8178.0</td>\n",
              "      <td>192.890560</td>\n",
              "      <td>181.756401</td>\n",
              "      <td>1.0</td>\n",
              "      <td>44.0</td>\n",
              "      <td>147.0</td>\n",
              "      <td>284.0</td>\n",
              "      <td>977.0</td>\n",
              "    </tr>\n",
              "  </tbody>\n",
              "</table>\n",
              "</div>"
            ],
            "text/plain": [
              "              count        mean         std  min   25%    50%    75%    max\n",
              "school_time                                                                \n",
              "0            2708.0  187.598597  179.258377  1.0  40.0  139.0  282.0  897.0\n",
              "1            8178.0  192.890560  181.756401  1.0  44.0  147.0  284.0  977.0"
            ]
          },
          "metadata": {
            "tags": []
          },
          "execution_count": 100
        }
      ]
    },
    {
      "cell_type": "code",
      "metadata": {
        "colab": {
          "base_uri": "https://localhost:8080/"
        },
        "id": "9SrnoWoU59kK",
        "outputId": "769bf31f-b71d-4585-e2fa-be13ca1a18f4"
      },
      "source": [
        "# profit in 2011 & Saturdays & season fall\n",
        "dataset[ (dataset['year'] == 2011) & (dataset['day_of_week'] == 'Saturday') & (dataset['season'] == 3)][['profit','count']].sum()"
      ],
      "execution_count": 101,
      "outputs": [
        {
          "output_type": "execute_result",
          "data": {
            "text/plain": [
              "profit    358690.323288\n",
              "count      39162.000000\n",
              "dtype: float64"
            ]
          },
          "metadata": {
            "tags": []
          },
          "execution_count": 101
        }
      ]
    },
    {
      "cell_type": "markdown",
      "metadata": {
        "id": "wMtyjx9R8Mft"
      },
      "source": [
        "# Data Visualization\n",
        "- **Numerical Features (Univariate - Bivariate)**\n",
        "- **Categorical Features (Univariate - Bivariate)**\n",
        "- Matrix plot"
      ]
    },
    {
      "cell_type": "markdown",
      "metadata": {
        "id": "_QYxyQgme1pd"
      },
      "source": [
        "**Numerical Univarite**"
      ]
    },
    {
      "cell_type": "code",
      "metadata": {
        "colab": {
          "base_uri": "https://localhost:8080/",
          "height": 377
        },
        "id": "o_NQO4qy5-bk",
        "outputId": "22aee82f-3bac-4e21-ab2c-8457b013490a"
      },
      "source": [
        " # Univarite\n",
        "sns.displot(dataset['temp'], kde=False)\n",
        "# sns.distplot(dataset['humidity'], kde=False)\n",
        "# sns.distplot(dataset['windspeed'], kde=False)\n",
        "# sns.distplot(dataset['casual'], kde=False) \n",
        "# sns.distplot(dataset['registered'], kde=False)\n"
      ],
      "execution_count": 102,
      "outputs": [
        {
          "output_type": "execute_result",
          "data": {
            "text/plain": [
              "<seaborn.axisgrid.FacetGrid at 0x7fcb5fb11710>"
            ]
          },
          "metadata": {
            "tags": []
          },
          "execution_count": 102
        },
        {
          "output_type": "display_data",
          "data": {
            "image/png": "[encoded data removed]",
            "text/plain": [
              "<Figure size 360x360 with 1 Axes>"
            ]
          },
          "metadata": {
            "tags": []
          }
        }
      ]
    },
    {
      "cell_type": "markdown",
      "metadata": {
        "id": "VgmSKwdBed_0"
      },
      "source": [
        "**Numerical Bivariate**:\n",
        "- x = temp or humidity or windspeed or casual or registered...\n",
        "- y = count or profit"
      ]
    },
    {
      "cell_type": "code",
      "metadata": {
        "colab": {
          "base_uri": "https://localhost:8080/",
          "height": 449
        },
        "id": "O-ykPbY65-Y4",
        "outputId": "12211261-3118-4bfe-ec4d-25a95e53926e"
      },
      "source": [
        "sns.jointplot(x='temp', y='profit', data=dataset, color='blue')"
      ],
      "execution_count": 103,
      "outputs": [
        {
          "output_type": "execute_result",
          "data": {
            "text/plain": [
              "<seaborn.axisgrid.JointGrid at 0x7fcb5f7d0790>"
            ]
          },
          "metadata": {
            "tags": []
          },
          "execution_count": 103
        },
        {
          "output_type": "display_data",
          "data": {
            "image/png": "[encoded data removed]",
            "text/plain": [
              "<Figure size 432x432 with 3 Axes>"
            ]
          },
          "metadata": {
            "tags": []
          }
        }
      ]
    },
    {
      "cell_type": "markdown",
      "metadata": {
        "id": "Mf7Tu-aZiPgN"
      },
      "source": [
        "**Categorical Univariate**"
      ]
    },
    {
      "cell_type": "code",
      "metadata": {
        "colab": {
          "base_uri": "https://localhost:8080/",
          "height": 469
        },
        "id": "jT50EiIF5-XD",
        "outputId": "0a1e3987-e9c5-40ea-e354-9e8a91ab9069"
      },
      "source": [
        "#sns.countplot(x='season', data=dataset, palette='flare')\n",
        "sns.countplot(x='is_rush_hour', hue='weather', data=dataset, palette='mako')"
      ],
      "execution_count": 104,
      "outputs": [
        {
          "output_type": "execute_result",
          "data": {
            "text/plain": [
              "<matplotlib.axes._subplots.AxesSubplot at 0x7fcb5f5e5f90>"
            ]
          },
          "metadata": {
            "tags": []
          },
          "execution_count": 104
        },
        {
          "output_type": "display_data",
          "data": {
            "image/png": "[encoded data removed]",
            "text/plain": [
              "<Figure size 504x504 with 1 Axes>"
            ]
          },
          "metadata": {
            "tags": []
          }
        }
      ]
    },
    {
      "cell_type": "markdown",
      "metadata": {
        "id": "tjwSakMtWUvd"
      },
      "source": [
        "**Categorical Bivariate**"
      ]
    },
    {
      "cell_type": "code",
      "metadata": {
        "id": "RH1_UzMk5-Ui",
        "colab": {
          "base_uri": "https://localhost:8080/",
          "height": 469
        },
        "outputId": "5a6c7042-44ff-4847-f738-1cb52bba28cd"
      },
      "source": [
        "sns.boxplot(x='season', y='profit', data=dataset, palette='mako')"
      ],
      "execution_count": 105,
      "outputs": [
        {
          "output_type": "execute_result",
          "data": {
            "text/plain": [
              "<matplotlib.axes._subplots.AxesSubplot at 0x7fcb5f57c250>"
            ]
          },
          "metadata": {
            "tags": []
          },
          "execution_count": 105
        },
        {
          "output_type": "display_data",
          "data": {
            "image/png": "[encoded data removed]",
            "text/plain": [
              "<Figure size 504x504 with 1 Axes>"
            ]
          },
          "metadata": {
            "tags": []
          }
        }
      ]
    },
    {
      "cell_type": "code",
      "metadata": {
        "id": "RUZBxPgj5-Q4",
        "colab": {
          "base_uri": "https://localhost:8080/",
          "height": 469
        },
        "outputId": "d43fdca8-d725-4338-b3f6-c2a539c913a5"
      },
      "source": [
        "plt.figure(figsize=(10,7))\n",
        "sns.boxplot(x='hour', y='profit', data=dataset, palette='flare')"
      ],
      "execution_count": 106,
      "outputs": [
        {
          "output_type": "execute_result",
          "data": {
            "text/plain": [
              "<matplotlib.axes._subplots.AxesSubplot at 0x7fcb5f486c90>"
            ]
          },
          "metadata": {
            "tags": []
          },
          "execution_count": 106
        },
        {
          "output_type": "display_data",
          "data": {
            "image/png": "[encoded data removed]",
            "text/plain": [
              "<Figure size 720x504 with 1 Axes>"
            ]
          },
          "metadata": {
            "tags": []
          }
        }
      ]
    },
    {
      "cell_type": "markdown",
      "metadata": {
        "id": "AVqC5HVjcY89"
      },
      "source": [
        "**Matrix Plot**"
      ]
    },
    {
      "cell_type": "code",
      "metadata": {
        "id": "2_98ATBL5-Od",
        "colab": {
          "base_uri": "https://localhost:8080/",
          "height": 452
        },
        "outputId": "534d3b32-7dba-4f88-b2e4-3e1668e6a351"
      },
      "source": [
        "new_dataset = pd.pivot_table(data=dataset, values='profit', columns='day_of_week', index='month')\n",
        "new_dataset"
      ],
      "execution_count": 107,
      "outputs": [
        {
          "output_type": "execute_result",
          "data": {
            "text/html": [
              "<div>\n",
              "<style scoped>\n",
              "    .dataframe tbody tr th:only-of-type {\n",
              "        vertical-align: middle;\n",
              "    }\n",
              "\n",
              "    .dataframe tbody tr th {\n",
              "        vertical-align: top;\n",
              "    }\n",
              "\n",
              "    .dataframe thead th {\n",
              "        text-align: right;\n",
              "    }\n",
              "</style>\n",
              "<table border=\"1\" class=\"dataframe\">\n",
              "  <thead>\n",
              "    <tr style=\"text-align: right;\">\n",
              "      <th>day_of_week</th>\n",
              "      <th>Friday</th>\n",
              "      <th>Monday</th>\n",
              "      <th>Saturday</th>\n",
              "      <th>Sunday</th>\n",
              "      <th>Thursday</th>\n",
              "      <th>Tuesday</th>\n",
              "      <th>Wednesday</th>\n",
              "    </tr>\n",
              "    <tr>\n",
              "      <th>month</th>\n",
              "      <th></th>\n",
              "      <th></th>\n",
              "      <th></th>\n",
              "      <th></th>\n",
              "      <th></th>\n",
              "      <th></th>\n",
              "      <th></th>\n",
              "    </tr>\n",
              "  </thead>\n",
              "  <tbody>\n",
              "    <tr>\n",
              "      <th>April</th>\n",
              "      <td>1154.450434</td>\n",
              "      <td>1347.061161</td>\n",
              "      <td>1564.097100</td>\n",
              "      <td>1901.682934</td>\n",
              "      <td>1298.500434</td>\n",
              "      <td>1145.928073</td>\n",
              "      <td>1017.447255</td>\n",
              "    </tr>\n",
              "    <tr>\n",
              "      <th>August</th>\n",
              "      <td>1620.510712</td>\n",
              "      <td>1476.018767</td>\n",
              "      <td>2177.205434</td>\n",
              "      <td>1696.931267</td>\n",
              "      <td>1571.299600</td>\n",
              "      <td>1531.130434</td>\n",
              "      <td>1557.712795</td>\n",
              "    </tr>\n",
              "    <tr>\n",
              "      <th>December</th>\n",
              "      <td>939.056267</td>\n",
              "      <td>946.694739</td>\n",
              "      <td>1147.241962</td>\n",
              "      <td>884.553767</td>\n",
              "      <td>913.542934</td>\n",
              "      <td>1018.283767</td>\n",
              "      <td>872.943767</td>\n",
              "    </tr>\n",
              "    <tr>\n",
              "      <th>February</th>\n",
              "      <td>720.246498</td>\n",
              "      <td>575.349820</td>\n",
              "      <td>663.462100</td>\n",
              "      <td>565.585910</td>\n",
              "      <td>561.281584</td>\n",
              "      <td>537.583852</td>\n",
              "      <td>589.928063</td>\n",
              "    </tr>\n",
              "    <tr>\n",
              "      <th>January</th>\n",
              "      <td>562.122384</td>\n",
              "      <td>391.098271</td>\n",
              "      <td>583.123767</td>\n",
              "      <td>507.168627</td>\n",
              "      <td>565.983389</td>\n",
              "      <td>471.271287</td>\n",
              "      <td>422.948767</td>\n",
              "    </tr>\n",
              "    <tr>\n",
              "      <th>July</th>\n",
              "      <td>1685.607934</td>\n",
              "      <td>1704.002378</td>\n",
              "      <td>2129.260434</td>\n",
              "      <td>1874.837795</td>\n",
              "      <td>1607.132934</td>\n",
              "      <td>1472.459323</td>\n",
              "      <td>1682.382934</td>\n",
              "    </tr>\n",
              "    <tr>\n",
              "      <th>June</th>\n",
              "      <td>1575.002378</td>\n",
              "      <td>1474.728767</td>\n",
              "      <td>2399.467656</td>\n",
              "      <td>2142.542656</td>\n",
              "      <td>1422.161267</td>\n",
              "      <td>1441.439600</td>\n",
              "      <td>1451.257934</td>\n",
              "    </tr>\n",
              "    <tr>\n",
              "      <th>March</th>\n",
              "      <td>819.221021</td>\n",
              "      <td>968.421987</td>\n",
              "      <td>1401.718350</td>\n",
              "      <td>1258.993724</td>\n",
              "      <td>873.243556</td>\n",
              "      <td>759.302717</td>\n",
              "      <td>865.646414</td>\n",
              "    </tr>\n",
              "    <tr>\n",
              "      <th>May</th>\n",
              "      <td>1654.002934</td>\n",
              "      <td>1172.976267</td>\n",
              "      <td>2287.966267</td>\n",
              "      <td>1791.423767</td>\n",
              "      <td>1477.266962</td>\n",
              "      <td>1251.994739</td>\n",
              "      <td>1189.405850</td>\n",
              "    </tr>\n",
              "    <tr>\n",
              "      <th>November</th>\n",
              "      <td>1111.886406</td>\n",
              "      <td>1226.188767</td>\n",
              "      <td>1563.864184</td>\n",
              "      <td>1544.281267</td>\n",
              "      <td>962.818278</td>\n",
              "      <td>1015.058767</td>\n",
              "      <td>902.792934</td>\n",
              "    </tr>\n",
              "    <tr>\n",
              "      <th>October</th>\n",
              "      <td>1573.342100</td>\n",
              "      <td>1380.905156</td>\n",
              "      <td>2071.712100</td>\n",
              "      <td>1665.541267</td>\n",
              "      <td>1471.539600</td>\n",
              "      <td>1290.306545</td>\n",
              "      <td>1291.061634</td>\n",
              "    </tr>\n",
              "    <tr>\n",
              "      <th>September</th>\n",
              "      <td>1501.890434</td>\n",
              "      <td>1599.458837</td>\n",
              "      <td>2141.885712</td>\n",
              "      <td>2215.463489</td>\n",
              "      <td>1217.921204</td>\n",
              "      <td>1294.020364</td>\n",
              "      <td>1420.942934</td>\n",
              "    </tr>\n",
              "  </tbody>\n",
              "</table>\n",
              "</div>"
            ],
            "text/plain": [
              "day_of_week       Friday       Monday  ...      Tuesday    Wednesday\n",
              "month                                  ...                          \n",
              "April        1154.450434  1347.061161  ...  1145.928073  1017.447255\n",
              "August       1620.510712  1476.018767  ...  1531.130434  1557.712795\n",
              "December      939.056267   946.694739  ...  1018.283767   872.943767\n",
              "February      720.246498   575.349820  ...   537.583852   589.928063\n",
              "January       562.122384   391.098271  ...   471.271287   422.948767\n",
              "July         1685.607934  1704.002378  ...  1472.459323  1682.382934\n",
              "June         1575.002378  1474.728767  ...  1441.439600  1451.257934\n",
              "March         819.221021   968.421987  ...   759.302717   865.646414\n",
              "May          1654.002934  1172.976267  ...  1251.994739  1189.405850\n",
              "November     1111.886406  1226.188767  ...  1015.058767   902.792934\n",
              "October      1573.342100  1380.905156  ...  1290.306545  1291.061634\n",
              "September    1501.890434  1599.458837  ...  1294.020364  1420.942934\n",
              "\n",
              "[12 rows x 7 columns]"
            ]
          },
          "metadata": {
            "tags": []
          },
          "execution_count": 107
        }
      ]
    },
    {
      "cell_type": "code",
      "metadata": {
        "id": "037ZtzVY5-L6",
        "colab": {
          "base_uri": "https://localhost:8080/",
          "height": 696
        },
        "outputId": "306905be-0a83-4414-e062-71e90e3b8c47"
      },
      "source": [
        "plt.figure(figsize=(10,10))\n",
        "sns.heatmap(new_dataset, cbar= True, square=True, fmt='.0f', annot=True, annot_kws={'size':12}, cmap='Blues')"
      ],
      "execution_count": 108,
      "outputs": [
        {
          "output_type": "execute_result",
          "data": {
            "text/plain": [
              "<matplotlib.axes._subplots.AxesSubplot at 0x7fcb5f30b290>"
            ]
          },
          "metadata": {
            "tags": []
          },
          "execution_count": 108
        },
        {
          "output_type": "display_data",
          "data": {
            "image/png": "[encoded data removed]",
            "text/plain": [
              "<Figure size 720x720 with 2 Axes>"
            ]
          },
          "metadata": {
            "tags": []
          }
        }
      ]
    },
    {
      "cell_type": "markdown",
      "metadata": {
        "id": "dauqXpOpeTrD"
      },
      "source": [
        "# Data Preprocessing\n",
        " - Data Cleaning\n",
        " - Work with missing data\n",
        " - Work with categorical data\n",
        " - Detect and handle outliers\n",
        " - Split data to train and test\n",
        " - Feature scaling"
      ]
    },
    {
      "cell_type": "markdown",
      "metadata": {
        "id": "sPd-eUrLXCsn"
      },
      "source": [
        "**Data Cleaning As Numerical**\n",
        "- Change numeric columns to numeric (by using to_numeric)\n",
        "- Use describe to make sure values is true"
      ]
    },
    {
      "cell_type": "code",
      "metadata": {
        "colab": {
          "base_uri": "https://localhost:8080/",
          "height": 317
        },
        "id": "wwf4yfq7dXTu",
        "outputId": "995d26e9-4886-48a4-c4a7-d3c26418dea0"
      },
      "source": [
        "# data cleaning\n",
        "dataset.describe()"
      ],
      "execution_count": 109,
      "outputs": [
        {
          "output_type": "execute_result",
          "data": {
            "text/html": [
              "<div>\n",
              "<style scoped>\n",
              "    .dataframe tbody tr th:only-of-type {\n",
              "        vertical-align: middle;\n",
              "    }\n",
              "\n",
              "    .dataframe tbody tr th {\n",
              "        vertical-align: top;\n",
              "    }\n",
              "\n",
              "    .dataframe thead th {\n",
              "        text-align: right;\n",
              "    }\n",
              "</style>\n",
              "<table border=\"1\" class=\"dataframe\">\n",
              "  <thead>\n",
              "    <tr style=\"text-align: right;\">\n",
              "      <th></th>\n",
              "      <th>season</th>\n",
              "      <th>holiday</th>\n",
              "      <th>workingday</th>\n",
              "      <th>weather</th>\n",
              "      <th>temp</th>\n",
              "      <th>atemp</th>\n",
              "      <th>humidity</th>\n",
              "      <th>windspeed</th>\n",
              "      <th>casual</th>\n",
              "      <th>registered</th>\n",
              "      <th>count</th>\n",
              "      <th>profit</th>\n",
              "      <th>year</th>\n",
              "      <th>hour</th>\n",
              "      <th>is_rush_hour</th>\n",
              "      <th>school_time</th>\n",
              "    </tr>\n",
              "  </thead>\n",
              "  <tbody>\n",
              "    <tr>\n",
              "      <th>count</th>\n",
              "      <td>10886.000000</td>\n",
              "      <td>10886.000000</td>\n",
              "      <td>10886.000000</td>\n",
              "      <td>10886.000000</td>\n",
              "      <td>10886.00000</td>\n",
              "      <td>10886.000000</td>\n",
              "      <td>10886.000000</td>\n",
              "      <td>10886.000000</td>\n",
              "      <td>10886.000000</td>\n",
              "      <td>10886.000000</td>\n",
              "      <td>10886.000000</td>\n",
              "      <td>10886.000000</td>\n",
              "      <td>10886.000000</td>\n",
              "      <td>10886.000000</td>\n",
              "      <td>10886.000000</td>\n",
              "      <td>10886.000000</td>\n",
              "    </tr>\n",
              "    <tr>\n",
              "      <th>mean</th>\n",
              "      <td>2.506614</td>\n",
              "      <td>0.028569</td>\n",
              "      <td>0.680875</td>\n",
              "      <td>1.418427</td>\n",
              "      <td>20.23086</td>\n",
              "      <td>23.655084</td>\n",
              "      <td>61.886460</td>\n",
              "      <td>12.799395</td>\n",
              "      <td>36.021955</td>\n",
              "      <td>155.552177</td>\n",
              "      <td>191.574132</td>\n",
              "      <td>1288.280751</td>\n",
              "      <td>2011.501929</td>\n",
              "      <td>11.541613</td>\n",
              "      <td>0.251056</td>\n",
              "      <td>0.751240</td>\n",
              "    </tr>\n",
              "    <tr>\n",
              "      <th>std</th>\n",
              "      <td>1.116174</td>\n",
              "      <td>0.166599</td>\n",
              "      <td>0.466159</td>\n",
              "      <td>0.633839</td>\n",
              "      <td>7.79159</td>\n",
              "      <td>8.474601</td>\n",
              "      <td>19.245033</td>\n",
              "      <td>8.164537</td>\n",
              "      <td>49.960477</td>\n",
              "      <td>151.039033</td>\n",
              "      <td>181.144454</td>\n",
              "      <td>1309.683400</td>\n",
              "      <td>0.500019</td>\n",
              "      <td>6.915838</td>\n",
              "      <td>0.433641</td>\n",
              "      <td>0.432314</td>\n",
              "    </tr>\n",
              "    <tr>\n",
              "      <th>min</th>\n",
              "      <td>1.000000</td>\n",
              "      <td>0.000000</td>\n",
              "      <td>0.000000</td>\n",
              "      <td>1.000000</td>\n",
              "      <td>0.82000</td>\n",
              "      <td>0.760000</td>\n",
              "      <td>0.000000</td>\n",
              "      <td>0.000000</td>\n",
              "      <td>0.000000</td>\n",
              "      <td>0.000000</td>\n",
              "      <td>1.000000</td>\n",
              "      <td>4.128767</td>\n",
              "      <td>2011.000000</td>\n",
              "      <td>0.000000</td>\n",
              "      <td>0.000000</td>\n",
              "      <td>0.000000</td>\n",
              "    </tr>\n",
              "    <tr>\n",
              "      <th>25%</th>\n",
              "      <td>2.000000</td>\n",
              "      <td>0.000000</td>\n",
              "      <td>0.000000</td>\n",
              "      <td>1.000000</td>\n",
              "      <td>13.94000</td>\n",
              "      <td>16.665000</td>\n",
              "      <td>47.000000</td>\n",
              "      <td>7.001500</td>\n",
              "      <td>4.000000</td>\n",
              "      <td>36.000000</td>\n",
              "      <td>42.000000</td>\n",
              "      <td>253.528767</td>\n",
              "      <td>2011.000000</td>\n",
              "      <td>6.000000</td>\n",
              "      <td>0.000000</td>\n",
              "      <td>1.000000</td>\n",
              "    </tr>\n",
              "    <tr>\n",
              "      <th>50%</th>\n",
              "      <td>3.000000</td>\n",
              "      <td>0.000000</td>\n",
              "      <td>1.000000</td>\n",
              "      <td>1.000000</td>\n",
              "      <td>20.50000</td>\n",
              "      <td>24.240000</td>\n",
              "      <td>62.000000</td>\n",
              "      <td>12.998000</td>\n",
              "      <td>17.000000</td>\n",
              "      <td>118.000000</td>\n",
              "      <td>145.000000</td>\n",
              "      <td>889.928767</td>\n",
              "      <td>2012.000000</td>\n",
              "      <td>12.000000</td>\n",
              "      <td>0.000000</td>\n",
              "      <td>1.000000</td>\n",
              "    </tr>\n",
              "    <tr>\n",
              "      <th>75%</th>\n",
              "      <td>4.000000</td>\n",
              "      <td>0.000000</td>\n",
              "      <td>1.000000</td>\n",
              "      <td>2.000000</td>\n",
              "      <td>26.24000</td>\n",
              "      <td>31.060000</td>\n",
              "      <td>77.000000</td>\n",
              "      <td>16.997900</td>\n",
              "      <td>49.000000</td>\n",
              "      <td>222.000000</td>\n",
              "      <td>284.000000</td>\n",
              "      <td>1891.828767</td>\n",
              "      <td>2012.000000</td>\n",
              "      <td>18.000000</td>\n",
              "      <td>1.000000</td>\n",
              "      <td>1.000000</td>\n",
              "    </tr>\n",
              "    <tr>\n",
              "      <th>max</th>\n",
              "      <td>4.000000</td>\n",
              "      <td>1.000000</td>\n",
              "      <td>1.000000</td>\n",
              "      <td>4.000000</td>\n",
              "      <td>41.00000</td>\n",
              "      <td>45.455000</td>\n",
              "      <td>100.000000</td>\n",
              "      <td>56.996900</td>\n",
              "      <td>367.000000</td>\n",
              "      <td>886.000000</td>\n",
              "      <td>977.000000</td>\n",
              "      <td>7881.728767</td>\n",
              "      <td>2012.000000</td>\n",
              "      <td>23.000000</td>\n",
              "      <td>1.000000</td>\n",
              "      <td>1.000000</td>\n",
              "    </tr>\n",
              "  </tbody>\n",
              "</table>\n",
              "</div>"
            ],
            "text/plain": [
              "             season       holiday  ...  is_rush_hour   school_time\n",
              "count  10886.000000  10886.000000  ...  10886.000000  10886.000000\n",
              "mean       2.506614      0.028569  ...      0.251056      0.751240\n",
              "std        1.116174      0.166599  ...      0.433641      0.432314\n",
              "min        1.000000      0.000000  ...      0.000000      0.000000\n",
              "25%        2.000000      0.000000  ...      0.000000      1.000000\n",
              "50%        3.000000      0.000000  ...      0.000000      1.000000\n",
              "75%        4.000000      0.000000  ...      1.000000      1.000000\n",
              "max        4.000000      1.000000  ...      1.000000      1.000000\n",
              "\n",
              "[8 rows x 16 columns]"
            ]
          },
          "metadata": {
            "tags": []
          },
          "execution_count": 109
        }
      ]
    },
    {
      "cell_type": "code",
      "metadata": {
        "colab": {
          "base_uri": "https://localhost:8080/"
        },
        "id": "rha9T8I5Qmm9",
        "outputId": "e7990b7f-f718-4eb0-d326-646c2dcde931"
      },
      "source": [
        "dataset.columns"
      ],
      "execution_count": 110,
      "outputs": [
        {
          "output_type": "execute_result",
          "data": {
            "text/plain": [
              "Index(['datetime', 'season', 'holiday', 'workingday', 'weather', 'temp',\n",
              "       'atemp', 'humidity', 'windspeed', 'casual', 'registered', 'count',\n",
              "       'profit', 'year', 'month', 'day_of_week', 'hour', 'is_rush_hour',\n",
              "       'school_time'],\n",
              "      dtype='object')"
            ]
          },
          "metadata": {
            "tags": []
          },
          "execution_count": 110
        }
      ]
    },
    {
      "cell_type": "code",
      "metadata": {
        "id": "dT-Uom-cWNXo"
      },
      "source": [
        "for col in ['temp','humidity', 'windspeed', 'casual', 'registered', 'count','profit']:\n",
        "  dataset[col] = pd.to_numeric(dataset[col], errors='coerce')"
      ],
      "execution_count": 111,
      "outputs": []
    },
    {
      "cell_type": "code",
      "metadata": {
        "colab": {
          "base_uri": "https://localhost:8080/"
        },
        "id": "eyCjQ0oPWonQ",
        "outputId": "fcddab8f-7759-4170-b5a6-dec92bffa902"
      },
      "source": [
        "dataset.info()"
      ],
      "execution_count": 112,
      "outputs": [
        {
          "output_type": "stream",
          "text": [
            "<class 'pandas.core.frame.DataFrame'>\n",
            "RangeIndex: 10886 entries, 0 to 10885\n",
            "Data columns (total 19 columns):\n",
            " #   Column        Non-Null Count  Dtype         \n",
            "---  ------        --------------  -----         \n",
            " 0   datetime      10886 non-null  datetime64[ns]\n",
            " 1   season        10886 non-null  int64         \n",
            " 2   holiday       10886 non-null  int64         \n",
            " 3   workingday    10886 non-null  int64         \n",
            " 4   weather       10886 non-null  int64         \n",
            " 5   temp          10886 non-null  float64       \n",
            " 6   atemp         10886 non-null  float64       \n",
            " 7   humidity      10886 non-null  int64         \n",
            " 8   windspeed     10886 non-null  float64       \n",
            " 9   casual        10886 non-null  int64         \n",
            " 10  registered    10886 non-null  int64         \n",
            " 11  count         10886 non-null  int64         \n",
            " 12  profit        10886 non-null  float64       \n",
            " 13  year          10886 non-null  int64         \n",
            " 14  month         10886 non-null  object        \n",
            " 15  day_of_week   10886 non-null  object        \n",
            " 16  hour          10886 non-null  int64         \n",
            " 17  is_rush_hour  10886 non-null  int64         \n",
            " 18  school_time   10886 non-null  int64         \n",
            "dtypes: datetime64[ns](1), float64(4), int64(12), object(2)\n",
            "memory usage: 1.6+ MB\n"
          ],
          "name": "stdout"
        }
      ]
    },
    {
      "cell_type": "markdown",
      "metadata": {
        "id": "ZJgKVgmIXtLm"
      },
      "source": [
        "**Data Cleaning As Categorical**\n",
        "- Use unique to check categorcal feature values "
      ]
    },
    {
      "cell_type": "code",
      "metadata": {
        "colab": {
          "base_uri": "https://localhost:8080/"
        },
        "id": "aZ_t2_HfWqTw",
        "outputId": "cbcaf607-15ca-4525-d16c-8b6c97b3185f"
      },
      "source": [
        "dataset.columns"
      ],
      "execution_count": 113,
      "outputs": [
        {
          "output_type": "execute_result",
          "data": {
            "text/plain": [
              "Index(['datetime', 'season', 'holiday', 'workingday', 'weather', 'temp',\n",
              "       'atemp', 'humidity', 'windspeed', 'casual', 'registered', 'count',\n",
              "       'profit', 'year', 'month', 'day_of_week', 'hour', 'is_rush_hour',\n",
              "       'school_time'],\n",
              "      dtype='object')"
            ]
          },
          "metadata": {
            "tags": []
          },
          "execution_count": 113
        }
      ]
    },
    {
      "cell_type": "code",
      "metadata": {
        "colab": {
          "base_uri": "https://localhost:8080/"
        },
        "id": "l3dZbhPcX_tR",
        "outputId": "0f766df2-e89e-43f2-eb32-bb040e1fc218"
      },
      "source": [
        "for col in ['season', 'holiday', 'workingday','year', 'month', 'day_of_week', 'hour', 'is_rush_hour','school_time']:\n",
        "  print(f'-----{col}-----')\n",
        "  print(f'-----{dataset[col].unique()}-----')\n",
        "  print('======================')"
      ],
      "execution_count": 114,
      "outputs": [
        {
          "output_type": "stream",
          "text": [
            "-----season-----\n",
            "-----[1 2 3 4]-----\n",
            "======================\n",
            "-----holiday-----\n",
            "-----[0 1]-----\n",
            "======================\n",
            "-----workingday-----\n",
            "-----[0 1]-----\n",
            "======================\n",
            "-----year-----\n",
            "-----[2011 2012]-----\n",
            "======================\n",
            "-----month-----\n",
            "-----['January' 'February' 'March' 'April' 'May' 'June' 'July' 'August'\n",
            " 'September' 'October' 'November' 'December']-----\n",
            "======================\n",
            "-----day_of_week-----\n",
            "-----['Saturday' 'Sunday' 'Monday' 'Tuesday' 'Wednesday' 'Thursday' 'Friday']-----\n",
            "======================\n",
            "-----hour-----\n",
            "-----[ 0  1  2  3  4  5  6  7  8  9 10 11 12 13 14 15 16 17 18 19 20 21 22 23]-----\n",
            "======================\n",
            "-----is_rush_hour-----\n",
            "-----[0 1]-----\n",
            "======================\n",
            "-----school_time-----\n",
            "-----[0 1]-----\n",
            "======================\n"
          ],
          "name": "stdout"
        }
      ]
    },
    {
      "cell_type": "code",
      "metadata": {
        "colab": {
          "base_uri": "https://localhost:8080/"
        },
        "id": "fcP_UNC0Yv04",
        "outputId": "8ee4a49d-e127-43f0-a8cf-e60bb7e47fa6"
      },
      "source": [
        "# work with missing values\n",
        "dataset.isnull().sum()"
      ],
      "execution_count": 115,
      "outputs": [
        {
          "output_type": "execute_result",
          "data": {
            "text/plain": [
              "datetime        0\n",
              "season          0\n",
              "holiday         0\n",
              "workingday      0\n",
              "weather         0\n",
              "temp            0\n",
              "atemp           0\n",
              "humidity        0\n",
              "windspeed       0\n",
              "casual          0\n",
              "registered      0\n",
              "count           0\n",
              "profit          0\n",
              "year            0\n",
              "month           0\n",
              "day_of_week     0\n",
              "hour            0\n",
              "is_rush_hour    0\n",
              "school_time     0\n",
              "dtype: int64"
            ]
          },
          "metadata": {
            "tags": []
          },
          "execution_count": 115
        }
      ]
    },
    {
      "cell_type": "code",
      "metadata": {
        "colab": {
          "base_uri": "https://localhost:8080/"
        },
        "id": "1CCvXcw3C8HM",
        "outputId": "1b8c51a6-4684-434a-c0fd-5ba02b6d8204"
      },
      "source": [
        "dataset.columns"
      ],
      "execution_count": 116,
      "outputs": [
        {
          "output_type": "execute_result",
          "data": {
            "text/plain": [
              "Index(['datetime', 'season', 'holiday', 'workingday', 'weather', 'temp',\n",
              "       'atemp', 'humidity', 'windspeed', 'casual', 'registered', 'count',\n",
              "       'profit', 'year', 'month', 'day_of_week', 'hour', 'is_rush_hour',\n",
              "       'school_time'],\n",
              "      dtype='object')"
            ]
          },
          "metadata": {
            "tags": []
          },
          "execution_count": 116
        }
      ]
    },
    {
      "cell_type": "code",
      "metadata": {
        "id": "gkhNPJODD7hd"
      },
      "source": [
        "dataset['monthh'] = dataset['datetime'].dt.month"
      ],
      "execution_count": 117,
      "outputs": []
    },
    {
      "cell_type": "code",
      "metadata": {
        "colab": {
          "base_uri": "https://localhost:8080/",
          "height": 419
        },
        "id": "RlCjgwGEC2hM",
        "outputId": "cacae3e4-f7f3-4e84-cbf7-44b3da9b2837"
      },
      "source": [
        "dataset = dataset[['season', 'holiday', 'workingday', 'weather', 'temp','humidity', 'count','profit', 'monthh', 'day_of_week', 'hour']]\n",
        "dataset"
      ],
      "execution_count": 118,
      "outputs": [
        {
          "output_type": "execute_result",
          "data": {
            "text/html": [
              "<div>\n",
              "<style scoped>\n",
              "    .dataframe tbody tr th:only-of-type {\n",
              "        vertical-align: middle;\n",
              "    }\n",
              "\n",
              "    .dataframe tbody tr th {\n",
              "        vertical-align: top;\n",
              "    }\n",
              "\n",
              "    .dataframe thead th {\n",
              "        text-align: right;\n",
              "    }\n",
              "</style>\n",
              "<table border=\"1\" class=\"dataframe\">\n",
              "  <thead>\n",
              "    <tr style=\"text-align: right;\">\n",
              "      <th></th>\n",
              "      <th>season</th>\n",
              "      <th>holiday</th>\n",
              "      <th>workingday</th>\n",
              "      <th>weather</th>\n",
              "      <th>temp</th>\n",
              "      <th>humidity</th>\n",
              "      <th>count</th>\n",
              "      <th>profit</th>\n",
              "      <th>monthh</th>\n",
              "      <th>day_of_week</th>\n",
              "      <th>hour</th>\n",
              "    </tr>\n",
              "  </thead>\n",
              "  <tbody>\n",
              "    <tr>\n",
              "      <th>0</th>\n",
              "      <td>1</td>\n",
              "      <td>0</td>\n",
              "      <td>0</td>\n",
              "      <td>1</td>\n",
              "      <td>9.84</td>\n",
              "      <td>81</td>\n",
              "      <td>16</td>\n",
              "      <td>107.328767</td>\n",
              "      <td>1</td>\n",
              "      <td>Saturday</td>\n",
              "      <td>0</td>\n",
              "    </tr>\n",
              "    <tr>\n",
              "      <th>1</th>\n",
              "      <td>1</td>\n",
              "      <td>0</td>\n",
              "      <td>0</td>\n",
              "      <td>1</td>\n",
              "      <td>9.02</td>\n",
              "      <td>80</td>\n",
              "      <td>40</td>\n",
              "      <td>275.028767</td>\n",
              "      <td>1</td>\n",
              "      <td>Saturday</td>\n",
              "      <td>1</td>\n",
              "    </tr>\n",
              "    <tr>\n",
              "      <th>2</th>\n",
              "      <td>1</td>\n",
              "      <td>0</td>\n",
              "      <td>0</td>\n",
              "      <td>1</td>\n",
              "      <td>9.02</td>\n",
              "      <td>80</td>\n",
              "      <td>32</td>\n",
              "      <td>201.928767</td>\n",
              "      <td>1</td>\n",
              "      <td>Saturday</td>\n",
              "      <td>2</td>\n",
              "    </tr>\n",
              "    <tr>\n",
              "      <th>3</th>\n",
              "      <td>1</td>\n",
              "      <td>0</td>\n",
              "      <td>0</td>\n",
              "      <td>1</td>\n",
              "      <td>9.84</td>\n",
              "      <td>75</td>\n",
              "      <td>13</td>\n",
              "      <td>94.428767</td>\n",
              "      <td>1</td>\n",
              "      <td>Saturday</td>\n",
              "      <td>3</td>\n",
              "    </tr>\n",
              "    <tr>\n",
              "      <th>4</th>\n",
              "      <td>1</td>\n",
              "      <td>0</td>\n",
              "      <td>0</td>\n",
              "      <td>1</td>\n",
              "      <td>9.84</td>\n",
              "      <td>75</td>\n",
              "      <td>1</td>\n",
              "      <td>4.128767</td>\n",
              "      <td>1</td>\n",
              "      <td>Saturday</td>\n",
              "      <td>4</td>\n",
              "    </tr>\n",
              "    <tr>\n",
              "      <th>...</th>\n",
              "      <td>...</td>\n",
              "      <td>...</td>\n",
              "      <td>...</td>\n",
              "      <td>...</td>\n",
              "      <td>...</td>\n",
              "      <td>...</td>\n",
              "      <td>...</td>\n",
              "      <td>...</td>\n",
              "      <td>...</td>\n",
              "      <td>...</td>\n",
              "      <td>...</td>\n",
              "    </tr>\n",
              "    <tr>\n",
              "      <th>10881</th>\n",
              "      <td>4</td>\n",
              "      <td>0</td>\n",
              "      <td>1</td>\n",
              "      <td>1</td>\n",
              "      <td>15.58</td>\n",
              "      <td>50</td>\n",
              "      <td>336</td>\n",
              "      <td>1534.928767</td>\n",
              "      <td>12</td>\n",
              "      <td>Wednesday</td>\n",
              "      <td>19</td>\n",
              "    </tr>\n",
              "    <tr>\n",
              "      <th>10882</th>\n",
              "      <td>4</td>\n",
              "      <td>0</td>\n",
              "      <td>1</td>\n",
              "      <td>1</td>\n",
              "      <td>14.76</td>\n",
              "      <td>57</td>\n",
              "      <td>241</td>\n",
              "      <td>1165.128767</td>\n",
              "      <td>12</td>\n",
              "      <td>Wednesday</td>\n",
              "      <td>20</td>\n",
              "    </tr>\n",
              "    <tr>\n",
              "      <th>10883</th>\n",
              "      <td>4</td>\n",
              "      <td>0</td>\n",
              "      <td>1</td>\n",
              "      <td>1</td>\n",
              "      <td>13.94</td>\n",
              "      <td>61</td>\n",
              "      <td>168</td>\n",
              "      <td>773.828767</td>\n",
              "      <td>12</td>\n",
              "      <td>Wednesday</td>\n",
              "      <td>21</td>\n",
              "    </tr>\n",
              "    <tr>\n",
              "      <th>10884</th>\n",
              "      <td>4</td>\n",
              "      <td>0</td>\n",
              "      <td>1</td>\n",
              "      <td>1</td>\n",
              "      <td>13.94</td>\n",
              "      <td>61</td>\n",
              "      <td>129</td>\n",
              "      <td>709.328767</td>\n",
              "      <td>12</td>\n",
              "      <td>Wednesday</td>\n",
              "      <td>22</td>\n",
              "    </tr>\n",
              "    <tr>\n",
              "      <th>10885</th>\n",
              "      <td>4</td>\n",
              "      <td>0</td>\n",
              "      <td>1</td>\n",
              "      <td>1</td>\n",
              "      <td>13.12</td>\n",
              "      <td>66</td>\n",
              "      <td>88</td>\n",
              "      <td>429.828767</td>\n",
              "      <td>12</td>\n",
              "      <td>Wednesday</td>\n",
              "      <td>23</td>\n",
              "    </tr>\n",
              "  </tbody>\n",
              "</table>\n",
              "<p>10886 rows × 11 columns</p>\n",
              "</div>"
            ],
            "text/plain": [
              "       season  holiday  workingday  ...  monthh  day_of_week  hour\n",
              "0           1        0           0  ...       1     Saturday     0\n",
              "1           1        0           0  ...       1     Saturday     1\n",
              "2           1        0           0  ...       1     Saturday     2\n",
              "3           1        0           0  ...       1     Saturday     3\n",
              "4           1        0           0  ...       1     Saturday     4\n",
              "...       ...      ...         ...  ...     ...          ...   ...\n",
              "10881       4        0           1  ...      12    Wednesday    19\n",
              "10882       4        0           1  ...      12    Wednesday    20\n",
              "10883       4        0           1  ...      12    Wednesday    21\n",
              "10884       4        0           1  ...      12    Wednesday    22\n",
              "10885       4        0           1  ...      12    Wednesday    23\n",
              "\n",
              "[10886 rows x 11 columns]"
            ]
          },
          "metadata": {
            "tags": []
          },
          "execution_count": 118
        }
      ]
    },
    {
      "cell_type": "code",
      "metadata": {
        "id": "QjcP9ntsexLy"
      },
      "source": [
        "# work with categorical values\n",
        "dataset = pd.get_dummies(dataset, columns=['season', 'weather', 'day_of_week'], drop_first=True)"
      ],
      "execution_count": 119,
      "outputs": []
    },
    {
      "cell_type": "code",
      "metadata": {
        "colab": {
          "base_uri": "https://localhost:8080/",
          "height": 297
        },
        "id": "c81RZ0osA-0c",
        "outputId": "e2852992-584f-4ca8-ca51-05d676f252cf"
      },
      "source": [
        "# detect and handle outliers\n",
        "dataset.describe()[['temp', 'humidity','count', 'profit']]"
      ],
      "execution_count": 120,
      "outputs": [
        {
          "output_type": "execute_result",
          "data": {
            "text/html": [
              "<div>\n",
              "<style scoped>\n",
              "    .dataframe tbody tr th:only-of-type {\n",
              "        vertical-align: middle;\n",
              "    }\n",
              "\n",
              "    .dataframe tbody tr th {\n",
              "        vertical-align: top;\n",
              "    }\n",
              "\n",
              "    .dataframe thead th {\n",
              "        text-align: right;\n",
              "    }\n",
              "</style>\n",
              "<table border=\"1\" class=\"dataframe\">\n",
              "  <thead>\n",
              "    <tr style=\"text-align: right;\">\n",
              "      <th></th>\n",
              "      <th>temp</th>\n",
              "      <th>humidity</th>\n",
              "      <th>count</th>\n",
              "      <th>profit</th>\n",
              "    </tr>\n",
              "  </thead>\n",
              "  <tbody>\n",
              "    <tr>\n",
              "      <th>count</th>\n",
              "      <td>10886.00000</td>\n",
              "      <td>10886.000000</td>\n",
              "      <td>10886.000000</td>\n",
              "      <td>10886.000000</td>\n",
              "    </tr>\n",
              "    <tr>\n",
              "      <th>mean</th>\n",
              "      <td>20.23086</td>\n",
              "      <td>61.886460</td>\n",
              "      <td>191.574132</td>\n",
              "      <td>1288.280751</td>\n",
              "    </tr>\n",
              "    <tr>\n",
              "      <th>std</th>\n",
              "      <td>7.79159</td>\n",
              "      <td>19.245033</td>\n",
              "      <td>181.144454</td>\n",
              "      <td>1309.683400</td>\n",
              "    </tr>\n",
              "    <tr>\n",
              "      <th>min</th>\n",
              "      <td>0.82000</td>\n",
              "      <td>0.000000</td>\n",
              "      <td>1.000000</td>\n",
              "      <td>4.128767</td>\n",
              "    </tr>\n",
              "    <tr>\n",
              "      <th>25%</th>\n",
              "      <td>13.94000</td>\n",
              "      <td>47.000000</td>\n",
              "      <td>42.000000</td>\n",
              "      <td>253.528767</td>\n",
              "    </tr>\n",
              "    <tr>\n",
              "      <th>50%</th>\n",
              "      <td>20.50000</td>\n",
              "      <td>62.000000</td>\n",
              "      <td>145.000000</td>\n",
              "      <td>889.928767</td>\n",
              "    </tr>\n",
              "    <tr>\n",
              "      <th>75%</th>\n",
              "      <td>26.24000</td>\n",
              "      <td>77.000000</td>\n",
              "      <td>284.000000</td>\n",
              "      <td>1891.828767</td>\n",
              "    </tr>\n",
              "    <tr>\n",
              "      <th>max</th>\n",
              "      <td>41.00000</td>\n",
              "      <td>100.000000</td>\n",
              "      <td>977.000000</td>\n",
              "      <td>7881.728767</td>\n",
              "    </tr>\n",
              "  </tbody>\n",
              "</table>\n",
              "</div>"
            ],
            "text/plain": [
              "              temp      humidity         count        profit\n",
              "count  10886.00000  10886.000000  10886.000000  10886.000000\n",
              "mean      20.23086     61.886460    191.574132   1288.280751\n",
              "std        7.79159     19.245033    181.144454   1309.683400\n",
              "min        0.82000      0.000000      1.000000      4.128767\n",
              "25%       13.94000     47.000000     42.000000    253.528767\n",
              "50%       20.50000     62.000000    145.000000    889.928767\n",
              "75%       26.24000     77.000000    284.000000   1891.828767\n",
              "max       41.00000    100.000000    977.000000   7881.728767"
            ]
          },
          "metadata": {
            "tags": []
          },
          "execution_count": 120
        }
      ]
    },
    {
      "cell_type": "code",
      "metadata": {
        "id": "DZIglSb0A-yG"
      },
      "source": [
        "# split data\n",
        "x = dataset.drop('profit',axis=1)\n",
        "y = dataset['profit']"
      ],
      "execution_count": 121,
      "outputs": []
    },
    {
      "cell_type": "code",
      "metadata": {
        "id": "y8eMS8_sIyqI"
      },
      "source": [
        "from sklearn.model_selection import train_test_split"
      ],
      "execution_count": 122,
      "outputs": []
    },
    {
      "cell_type": "code",
      "metadata": {
        "id": "SBwmqmOzA-vG"
      },
      "source": [
        "x_train, x_test,y_train,y_test = train_test_split(x,y,test_size=0.2)"
      ],
      "execution_count": 123,
      "outputs": []
    },
    {
      "cell_type": "code",
      "metadata": {
        "colab": {
          "base_uri": "https://localhost:8080/"
        },
        "id": "peSSYAaPA-sf",
        "outputId": "4fa004fa-2367-430a-d940-67633cf1957c"
      },
      "source": [
        "print(x_train.shape, y_train.shape, x_test.shape)"
      ],
      "execution_count": 124,
      "outputs": [
        {
          "output_type": "stream",
          "text": [
            "(8708, 19) (8708,) (2178, 19)\n"
          ],
          "name": "stdout"
        }
      ]
    },
    {
      "cell_type": "code",
      "metadata": {
        "id": "rZ0O-Xd4A-p1"
      },
      "source": [
        "# feature scaling\n",
        "from sklearn.preprocessing import StandardScaler\n",
        "scaler = StandardScaler()"
      ],
      "execution_count": 125,
      "outputs": []
    },
    {
      "cell_type": "code",
      "metadata": {
        "colab": {
          "base_uri": "https://localhost:8080/"
        },
        "id": "3WYFO-_QM9E6",
        "outputId": "d127d717-4111-473a-c585-454309910b1f"
      },
      "source": [
        "scaler.fit(x_train)"
      ],
      "execution_count": 126,
      "outputs": [
        {
          "output_type": "execute_result",
          "data": {
            "text/plain": [
              "StandardScaler(copy=True, with_mean=True, with_std=True)"
            ]
          },
          "metadata": {
            "tags": []
          },
          "execution_count": 126
        }
      ]
    },
    {
      "cell_type": "code",
      "metadata": {
        "id": "j8aWCiRdM9CL"
      },
      "source": [
        "x_train = scaler.transform(x_train)\n",
        "x_test = scaler.transform(x_test)"
      ],
      "execution_count": 127,
      "outputs": []
    },
    {
      "cell_type": "markdown",
      "metadata": {
        "id": "73lB98tB_OHi"
      },
      "source": [
        "# Machine Learning"
      ]
    },
    {
      "cell_type": "code",
      "metadata": {
        "id": "TXnAsanvM8-c"
      },
      "source": [
        "from sklearn.linear_model import LinearRegression\n",
        "from sklearn.neighbors import KNeighborsRegressor\n",
        "from sklearn.svm import SVR\n",
        "from sklearn.tree import DecisionTreeRegressor\n",
        "from sklearn.ensemble import RandomForestRegressor\n",
        "from xgboost import XGBRegressor\n",
        "from sklearn.metrics import mean_squared_error"
      ],
      "execution_count": 131,
      "outputs": []
    },
    {
      "cell_type": "code",
      "metadata": {
        "id": "pEAnsbWIM87k"
      },
      "source": [
        "model = {\n",
        "    \"LR\": LinearRegression(),\n",
        "    \"KNNR\": KNeighborsRegressor(),\n",
        "    \"SVR\": SVR(),\n",
        "    \"DT\": DecisionTreeRegressor(),\n",
        "    \"RF\": RandomForestRegressor(),\n",
        "    \"XGBR\": XGBRegressor(),\n",
        "}"
      ],
      "execution_count": 139,
      "outputs": []
    },
    {
      "cell_type": "code",
      "metadata": {
        "colab": {
          "base_uri": "https://localhost:8080/"
        },
        "id": "58qBA0hW8B8P",
        "outputId": "97286d9d-87a8-46f6-c6ad-e540f469c587"
      },
      "source": [
        "for name, model in model.items():\n",
        "  print(f'Using model: {name}')\n",
        "  model.fit(x_train,y_train)\n",
        "  print(f'Training Score: {model.score(x_train,y_train)}')\n",
        "  print(f'Testing Score: {model.score(x_test,y_test)}')\n",
        "  y_pred = model.predict(x_test)\n",
        "  print(f'RMSE : {np.sqrt(mean_squared_error(y_test,y_pred))}')\n",
        "  print('=============================================')\n"
      ],
      "execution_count": 140,
      "outputs": [
        {
          "output_type": "stream",
          "text": [
            "Using model: LR\n",
            "Training Score: 0.9195796504353109\n",
            "Testing Score: 0.9151110643333592\n",
            "RMSE : 386.24033970728976\n",
            "=============================================\n",
            "Using model: KNNR\n",
            "Training Score: 0.9656753595011831\n",
            "Testing Score: 0.9430205274904032\n",
            "RMSE : 316.4399435539078\n",
            "=============================================\n",
            "Using model: SVR\n",
            "Training Score: 0.1738182652343164\n",
            "Testing Score: 0.1594807888384353\n",
            "RMSE : 1215.3627133143973\n",
            "=============================================\n",
            "Using model: DT\n",
            "Training Score: 0.9999999943942587\n",
            "Testing Score: 0.9704136791607669\n",
            "RMSE : 228.02242886837683\n",
            "=============================================\n",
            "Using model: RF\n",
            "Training Score: 0.9977149219533368\n",
            "Testing Score: 0.9829153138229777\n",
            "RMSE : 173.2748729414094\n",
            "=============================================\n",
            "Using model: XGBR\n",
            "[06:20:07] WARNING: /workspace/src/objective/regression_obj.cu:152: reg:linear is now deprecated in favor of reg:squarederror.\n",
            "Training Score: 0.9845205762108655\n",
            "Testing Score: 0.9805133991143755\n",
            "RMSE : 185.0547049225945\n",
            "=============================================\n"
          ],
          "name": "stdout"
        }
      ]
    },
    {
      "cell_type": "markdown",
      "metadata": {
        "id": "QIbYbHIK_j2f"
      },
      "source": [
        "# Testing & Deployment"
      ]
    },
    {
      "cell_type": "code",
      "metadata": {
        "colab": {
          "base_uri": "https://localhost:8080/"
        },
        "id": "T5b7zOX99gVA",
        "outputId": "42cf2eb8-e4aa-4db5-9c08-07b420c81bfe"
      },
      "source": [
        "x.columns"
      ],
      "execution_count": 141,
      "outputs": [
        {
          "output_type": "execute_result",
          "data": {
            "text/plain": [
              "Index(['holiday', 'workingday', 'temp', 'humidity', 'count', 'monthh', 'hour',\n",
              "       'season_2', 'season_3', 'season_4', 'weather_2', 'weather_3',\n",
              "       'weather_4', 'day_of_week_Monday', 'day_of_week_Saturday',\n",
              "       'day_of_week_Sunday', 'day_of_week_Thursday', 'day_of_week_Tuesday',\n",
              "       'day_of_week_Wednesday'],\n",
              "      dtype='object')"
            ]
          },
          "metadata": {
            "tags": []
          },
          "execution_count": 141
        }
      ]
    },
    {
      "cell_type": "code",
      "metadata": {
        "colab": {
          "base_uri": "https://localhost:8080/"
        },
        "id": "psgnTS47_3xG",
        "outputId": "2161cf93-0e49-4bc3-c32d-c71924641637"
      },
      "source": [
        "len(x.columns)"
      ],
      "execution_count": 143,
      "outputs": [
        {
          "output_type": "execute_result",
          "data": {
            "text/plain": [
              "19"
            ]
          },
          "metadata": {
            "tags": []
          },
          "execution_count": 143
        }
      ]
    },
    {
      "cell_type": "code",
      "metadata": {
        "id": "dgHtbwhs_oce"
      },
      "source": [
        "test_data = [1,0,24,60,126,5,5,8,1,0,0,0,1,0,0,0,0,0,1]"
      ],
      "execution_count": 144,
      "outputs": []
    },
    {
      "cell_type": "code",
      "metadata": {
        "colab": {
          "base_uri": "https://localhost:8080/"
        },
        "id": "FaOSqmKU_7Ll",
        "outputId": "106d2a80-33fd-4411-eb25-366e3e55f54e"
      },
      "source": [
        "len(test_data)"
      ],
      "execution_count": 145,
      "outputs": [
        {
          "output_type": "execute_result",
          "data": {
            "text/plain": [
              "19"
            ]
          },
          "metadata": {
            "tags": []
          },
          "execution_count": 145
        }
      ]
    },
    {
      "cell_type": "code",
      "metadata": {
        "id": "Saos7FtB_7H6"
      },
      "source": [
        "test_data = scaler.transform([test_data])"
      ],
      "execution_count": 146,
      "outputs": []
    },
    {
      "cell_type": "code",
      "metadata": {
        "colab": {
          "base_uri": "https://localhost:8080/"
        },
        "id": "faZpctdpAM72",
        "outputId": "c18c17f3-1181-41b6-f8e6-18000de7aa32"
      },
      "source": [
        "model.predict(test_data)"
      ],
      "execution_count": 147,
      "outputs": [
        {
          "output_type": "execute_result",
          "data": {
            "text/plain": [
              "array([876.153], dtype=float32)"
            ]
          },
          "metadata": {
            "tags": []
          },
          "execution_count": 147
        }
      ]
    },
    {
      "cell_type": "code",
      "metadata": {
        "id": "nlJLYnKAANg5"
      },
      "source": [
        ""
      ],
      "execution_count": null,
      "outputs": []
    },
    {
      "cell_type": "code",
      "metadata": {
        "id": "9X0PgXoEANdf"
      },
      "source": [
        ""
      ],
      "execution_count": null,
      "outputs": []
    },
    {
      "cell_type": "code",
      "metadata": {
        "id": "KFw4SS34ANZ_"
      },
      "source": [
        ""
      ],
      "execution_count": null,
      "outputs": []
    }
  ]
}